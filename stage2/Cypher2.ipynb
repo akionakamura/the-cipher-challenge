{
 "cells": [
  {
   "cell_type": "code",
   "execution_count": 132,
   "metadata": {},
   "outputs": [],
   "source": [
    "import numpy as np\n",
    "from collections import deque\n",
    "\n",
    "\n",
    "PLAIN_ALPHABET = 'ABCDEFGHIJKLMNOPQRSTUVWXYZ'\n",
    "\n",
    "PUNCTUATION_MARKS = [';', '.', '\\'', ' ', ',']"
   ]
  },
  {
   "cell_type": "code",
   "execution_count": 133,
   "metadata": {},
   "outputs": [],
   "source": [
    "def shift_alpha(shift):\n",
    "    alpha_list = list(ALPHA)\n",
    "    return ''.join(alpha_list[shift:] + alpha_list[:shift])"
   ]
  },
  {
   "cell_type": "code",
   "execution_count": 158,
   "metadata": {},
   "outputs": [],
   "source": [
    "def load(fname):\n",
    "    data = ''\n",
    "    ''' Load the file using std open'''\n",
    "    f = open(fname,'r')\n",
    "    for line in f:\n",
    "        data = data + line.replace('\\n',' ')\n",
    "        \n",
    "    f.close()\n",
    "\n",
    "    return data"
   ]
  },
  {
   "cell_type": "code",
   "execution_count": 159,
   "metadata": {},
   "outputs": [],
   "source": [
    "PATH = '/home/denisefavila/Documentos/cipher_chalenge/the-cipher-challenge/stage2/cipher.txt'\n",
    "\n",
    "cipher = load(PATH)"
   ]
  },
  {
   "cell_type": "code",
   "execution_count": 160,
   "metadata": {},
   "outputs": [
    {
     "data": {
      "text/plain": [
       "'MHILY LZA ZBHL XBPZXBL MVYABUHL HWWPBZ JSHBKPBZ JHLJBZ  KPJABT HYJHUBT LZA ULBAYVU'"
      ]
     },
     "execution_count": 160,
     "metadata": {},
     "output_type": "execute_result"
    }
   ],
   "source": [
    "cipher"
   ]
  },
  {
   "cell_type": "code",
   "execution_count": 161,
   "metadata": {},
   "outputs": [],
   "source": [
    "def decrypt(cipher, alpha):\n",
    "    for i in range(1, 26):\n",
    "        key = shift_alpha(i)\n",
    "        decrypted_msg = []\n",
    "        for letter in cipher:\n",
    "            if letter in PUNCTUATION_MARKS: \n",
    "                decrypted_msg.append(letter)\n",
    "            else:\n",
    "                decrypted_msg.append(key[alpha.index(letter)])\n",
    "\n",
    "        print (''.join(decrypted_msg).lower())"
   ]
  },
  {
   "cell_type": "code",
   "execution_count": 162,
   "metadata": {},
   "outputs": [
    {
     "name": "stdout",
     "output_type": "stream",
     "text": [
      "nijmz mab acim ycqaycm nwzbcvim ixxqca kticlqca kimkca  lqkbcu izkivcu mab vmcbzwv\n",
      "ojkna nbc bdjn zdrbzdn oxacdwjn jyyrdb lujdmrdb ljnldb  mrlcdv jaljwdv nbc wndcaxw\n",
      "pklob ocd ceko aescaeo pybdexko kzzsec mvkensec mkomec  nsmdew kbmkxew ocd xoedbyx\n",
      "qlmpc pde dflp bftdbfp qzcefylp laatfd nwlfotfd nlpnfd  otnefx lcnlyfx pde ypfeczy\n",
      "rmnqd qef egmq cguecgq radfgzmq mbbuge oxmgpuge omqoge  puofgy mdomzgy qef zqgfdaz\n",
      "snore rfg fhnr dhvfdhr sbeghanr nccvhf pynhqvhf pnrphf  qvpghz nepnahz rfg arhgeba\n",
      "topsf sgh gios eiwgeis tcfhibos oddwig qzoirwig qosqig  rwqhia ofqobia sgh bsihfcb\n",
      "upqtg thi hjpt fjxhfjt udgijcpt peexjh rapjsxjh rptrjh  sxrijb pgrpcjb thi ctjigdc\n",
      "vqruh uij ikqu gkyigku vehjkdqu qffyki sbqktyki squski  tysjkc qhsqdkc uij dukjhed\n",
      "wrsvi vjk jlrv hlzjhlv wfiklerv rggzlj tcrluzlj trvtlj  uztkld ritreld vjk evlkife\n",
      "xstwj wkl kmsw imakimw xgjlmfsw shhamk udsmvamk uswumk  vaulme sjusfme wkl fwmljgf\n",
      "ytuxk xlm lntx jnbljnx yhkmngtx tiibnl vetnwbnl vtxvnl  wbvmnf tkvtgnf xlm gxnmkhg\n",
      "zuvyl ymn mouy kocmkoy zilnohuy ujjcom wfuoxcom wuywom  xcwnog ulwuhog ymn hyonlih\n",
      "avwzm zno npvz lpdnlpz ajmopivz vkkdpn xgvpydpn xvzxpn  ydxoph vmxviph zno izpomji\n",
      "bwxan aop oqwa mqeomqa bknpqjwa wlleqo yhwqzeqo ywayqo  zeypqi wnywjqi aop jaqpnkj\n",
      "cxybo bpq prxb nrfpnrb cloqrkxb xmmfrp zixrafrp zxbzrp  afzqrj xozxkrj bpq kbrqolk\n",
      "dyzcp cqr qsyc osgqosc dmprslyc ynngsq ajysbgsq aycasq  bgarsk ypaylsk cqr lcsrpml\n",
      "ezadq drs rtzd pthrptd enqstmzd zoohtr bkztchtr bzdbtr  chbstl zqbzmtl drs mdtsqnm\n",
      "faber est suae quisque fortunae appius claudius caecus  dictum arcanum est neutron\n",
      "gbcfs ftu tvbf rvjtrvf gpsuvobf bqqjvt dmbvejvt dbfdvt  ejduvn bsdbovn ftu ofvuspo\n",
      "hcdgt guv uwcg swkuswg hqtvwpcg crrkwu encwfkwu ecgewu  fkevwo ctecpwo guv pgwvtqp\n",
      "idehu hvw vxdh txlvtxh iruwxqdh dsslxv fodxglxv fdhfxv  glfwxp dufdqxp hvw qhxwurq\n",
      "jefiv iwx wyei uymwuyi jsvxyrei ettmyw gpeyhmyw geigyw  hmgxyq evgeryq iwx riyxvsr\n",
      "kfgjw jxy xzfj vznxvzj ktwyzsfj fuunzx hqfzinzx hfjhzx  inhyzr fwhfszr jxy sjzywts\n",
      "lghkx kyz yagk waoywak luxzatgk gvvoay irgajoay igkiay  joizas gxigtas kyz tkazxut\n"
     ]
    }
   ],
   "source": [
    "decrypt(cipher, PLAIN_ALPHABET)"
   ]
  },
  {
   "cell_type": "code",
   "execution_count": 1,
   "metadata": {},
   "outputs": [],
   "source": [
    "# faber est suae quisque fortunae appius claudius caecus  dictum arcanum est neutron :)"
   ]
  },
  {
   "cell_type": "code",
   "execution_count": null,
   "metadata": {},
   "outputs": [],
   "source": []
  }
 ],
 "metadata": {
  "kernelspec": {
   "display_name": "Python 3",
   "language": "python",
   "name": "python3"
  },
  "language_info": {
   "codemirror_mode": {
    "name": "ipython",
    "version": 3
   },
   "file_extension": ".py",
   "mimetype": "text/x-python",
   "name": "python",
   "nbconvert_exporter": "python",
   "pygments_lexer": "ipython3",
   "version": "3.7.0"
  }
 },
 "nbformat": 4,
 "nbformat_minor": 2
}

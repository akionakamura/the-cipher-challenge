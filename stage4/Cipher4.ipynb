{
 "cells": [
  {
   "cell_type": "markdown",
   "metadata": {},
   "source": [
    "# Challenge \n",
    "\n",
    "## Vigenère cipher"
   ]
  },
  {
   "cell_type": "code",
   "execution_count": 1,
   "metadata": {},
   "outputs": [],
   "source": [
    "import numpy as np\n",
    "import collections\n",
    "import operator\n",
    "import pandas as pd\n",
    "\n",
    "PLAIN_ALPHABET = 'ABCDEFGHIJKLMNOPQRSTUVWXYZ'"
   ]
  },
  {
   "cell_type": "code",
   "execution_count": 2,
   "metadata": {},
   "outputs": [],
   "source": [
    "def load(fname):\n",
    "    f = open(fname,'r')\n",
    "    #data = []\n",
    "    contents = f.read()\n",
    "    file_as_list = contents.splitlines(False) \n",
    "    \n",
    "    data = [line for line in file_as_list if line != \"\"]\n",
    "        \n",
    "    f.close()\n",
    "    \n",
    "    return data"
   ]
  },
  {
   "cell_type": "code",
   "execution_count": 3,
   "metadata": {},
   "outputs": [],
   "source": [
    "def shift_alpha(shift):\n",
    "    alpha_list = list(PLAIN_ALPHABET)\n",
    "    return ''.join(alpha_list[shift:] + alpha_list[:shift])"
   ]
  },
  {
   "cell_type": "code",
   "execution_count": 4,
   "metadata": {},
   "outputs": [],
   "source": [
    "def count_frequencies(cipher, substring_size = 1):\n",
    "    \n",
    "    cipher = ' '.join(cipher).replace(\" \", \"\")\n",
    "    count_dict = {}\n",
    "    \n",
    "    number_letters = substring_size\n",
    "        \n",
    "    for position in range(len(cipher)):\n",
    "        try:\n",
    "            count_dict[cipher[position:position+number_letters]] = count_dict[\n",
    "                cipher[position:position+number_letters]] + 1\n",
    "            \n",
    "        except KeyError:\n",
    "            count_dict[cipher[position:position+number_letters]] = 1\n",
    "    \n",
    "    dataframe = pd.DataFrame(sorted(count_dict.items(), key=operator.itemgetter(1)),\n",
    "                             columns=[\"letter\", \"count\"])\n",
    "    dataframe[\"percentage\"] = dataframe[\"count\"]/len(cipher)\n",
    "    return dataframe.sort_values(by=\"percentage\", ascending=False)"
   ]
  },
  {
   "cell_type": "code",
   "execution_count": 5,
   "metadata": {},
   "outputs": [],
   "source": [
    "def find_all(string,substring):\n",
    "\n",
    "    length = len(substring)\n",
    "    c=0\n",
    "    indexes = []\n",
    "    while c < len(string):\n",
    "        if string[c:c+length] == substring:\n",
    "            indexes.append(c)\n",
    "        c=c+1\n",
    "    return indexes\n",
    "\n",
    "def get_digram_ocurrences(digrams,cipher):\n",
    "    \n",
    "    cipher = ' '.join(cipher).replace(\" \", \"\")\n",
    "    \n",
    "    for digram in digrams:\n",
    "        positions = find_all(cipher, digram)\n",
    "        print(np.diff(positions))\n",
    "        \n",
    "    return"
   ]
  },
  {
   "cell_type": "code",
   "execution_count": 6,
   "metadata": {},
   "outputs": [],
   "source": [
    "def decrypt(cipher, alpha, subs=None):\n",
    "    cipher = ' '.join(cipher).replace(\" \", \"\")\n",
    "    \n",
    "    \n",
    "    decrypted_msg = []\n",
    "                \n",
    "    if subs:\n",
    "        key = [shift_alpha(i) for i in subs]\n",
    "        for position in np.arange(0, len(cipher), 5):\n",
    "            #print(position)\n",
    "            #print(\"BLA\")\n",
    "            for i in range(5):\n",
    "                try:\n",
    "                    decrypted_msg.append(key[i][alpha.index(cipher[position + i])])\n",
    "                except IndexError:\n",
    "                    break\n",
    "                \n",
    "    print (''.join(decrypted_msg).lower())"
   ]
  },
  {
   "cell_type": "code",
   "execution_count": 7,
   "metadata": {},
   "outputs": [
    {
     "data": {
      "text/plain": [
       "['K Q O W E F V J P U J U U N U K G L M E K J I N M W U X F Q M K J B',\n",
       " 'G W R L F N F G H U D W U U M B S V L P S N C M U E K Q C T E S W R',\n",
       " 'E E K O Y S S I W C T U A X Y O T A P X P L W P N T C G O J B G F Q',\n",
       " 'H T D W X I Z A Y G F F N S X C S E Y N C T S S P N T U J N Y T G G',\n",
       " 'W Z G R W U U N E J U U Q E A P Y M E K Q H U I D U X F P G U Y T S',\n",
       " 'M T F F S H N U O C Z G M R U W E Y T R G K M E E D C T V R E C F B',\n",
       " 'D J Q C U S W V B P N L G O Y L S K M T E F V J J T W W M F M W P N',\n",
       " 'M E M T M H R S P X F S S K F F S T N U O C Z G M D O E O Y E E K C',\n",
       " 'P J R G P M U R S K H F R S E I U E V G O Y C W X I Z A Y G O S A A',\n",
       " 'N Y D O E O Y J L W U N H A M E B F E L X Y V L W N O J N S I O F R',\n",
       " 'W U C C E S W K V I D G M U C G O C R U W G N M A A F F V N S I U D',\n",
       " 'E K Q H C E U C P F C M P V S U D G A V E M N Y M A M V L F M A O Y',\n",
       " 'F N T Q C U A F V F J N X K L N E I W C W O D C C U L W R I F T W G',\n",
       " 'M U S W O V M A T N Y B U H T C O C W F Y T N M G Y T Q M K B B N L',\n",
       " 'G F B T W O J F T W G N T E J K N E E D C L D H W T V B U V G F B I',\n",
       " 'J G Y Y I D G M V R D G M P L S W G J L A G O E E K J O F E K N Y N',\n",
       " 'O L R I V R W V U H E I W U U R W G M U T J C D B N K G M B I D G M',\n",
       " 'E E Y G U O T D G G Q E U J Y O T V G G B R U J Y S']"
      ]
     },
     "execution_count": 7,
     "metadata": {},
     "output_type": "execute_result"
    }
   ],
   "source": [
    "# Load file\n",
    "PATH = \"./cipher.txt\"\n",
    "\n",
    "CIPHER = load(PATH)\n",
    "\n",
    "CIPHER"
   ]
  },
  {
   "cell_type": "markdown",
   "metadata": {},
   "source": [
    "First, let's try to find the word length:"
   ]
  },
  {
   "cell_type": "code",
   "execution_count": 8,
   "metadata": {},
   "outputs": [
    {
     "data": {
      "text/html": [
       "<div>\n",
       "<style scoped>\n",
       "    .dataframe tbody tr th:only-of-type {\n",
       "        vertical-align: middle;\n",
       "    }\n",
       "\n",
       "    .dataframe tbody tr th {\n",
       "        vertical-align: top;\n",
       "    }\n",
       "\n",
       "    .dataframe thead th {\n",
       "        text-align: right;\n",
       "    }\n",
       "</style>\n",
       "<table border=\"1\" class=\"dataframe\">\n",
       "  <thead>\n",
       "    <tr style=\"text-align: right;\">\n",
       "      <th></th>\n",
       "      <th>letter</th>\n",
       "      <th>count</th>\n",
       "      <th>percentage</th>\n",
       "    </tr>\n",
       "  </thead>\n",
       "  <tbody>\n",
       "    <tr>\n",
       "      <th>316</th>\n",
       "      <td>GM</td>\n",
       "      <td>9</td>\n",
       "      <td>0.014901</td>\n",
       "    </tr>\n",
       "    <tr>\n",
       "      <th>315</th>\n",
       "      <td>EK</td>\n",
       "      <td>8</td>\n",
       "      <td>0.013245</td>\n",
       "    </tr>\n",
       "    <tr>\n",
       "      <th>314</th>\n",
       "      <td>DG</td>\n",
       "      <td>6</td>\n",
       "      <td>0.009934</td>\n",
       "    </tr>\n",
       "    <tr>\n",
       "      <th>313</th>\n",
       "      <td>ME</td>\n",
       "      <td>6</td>\n",
       "      <td>0.009934</td>\n",
       "    </tr>\n",
       "    <tr>\n",
       "      <th>312</th>\n",
       "      <td>EE</td>\n",
       "      <td>6</td>\n",
       "      <td>0.009934</td>\n",
       "    </tr>\n",
       "    <tr>\n",
       "      <th>311</th>\n",
       "      <td>OY</td>\n",
       "      <td>6</td>\n",
       "      <td>0.009934</td>\n",
       "    </tr>\n",
       "    <tr>\n",
       "      <th>310</th>\n",
       "      <td>GO</td>\n",
       "      <td>6</td>\n",
       "      <td>0.009934</td>\n",
       "    </tr>\n",
       "    <tr>\n",
       "      <th>309</th>\n",
       "      <td>WU</td>\n",
       "      <td>6</td>\n",
       "      <td>0.009934</td>\n",
       "    </tr>\n",
       "    <tr>\n",
       "      <th>305</th>\n",
       "      <td>UU</td>\n",
       "      <td>5</td>\n",
       "      <td>0.008278</td>\n",
       "    </tr>\n",
       "    <tr>\n",
       "      <th>303</th>\n",
       "      <td>WG</td>\n",
       "      <td>5</td>\n",
       "      <td>0.008278</td>\n",
       "    </tr>\n",
       "  </tbody>\n",
       "</table>\n",
       "</div>"
      ],
      "text/plain": [
       "    letter  count  percentage\n",
       "316     GM      9    0.014901\n",
       "315     EK      8    0.013245\n",
       "314     DG      6    0.009934\n",
       "313     ME      6    0.009934\n",
       "312     EE      6    0.009934\n",
       "311     OY      6    0.009934\n",
       "310     GO      6    0.009934\n",
       "309     WU      6    0.009934\n",
       "305     UU      5    0.008278\n",
       "303     WG      5    0.008278"
      ]
     },
     "execution_count": 8,
     "metadata": {},
     "output_type": "execute_result"
    }
   ],
   "source": [
    "digrams_frequencies = count_frequencies(CIPHER, substring_size = 2)\n",
    "\n",
    "digrams_frequencies.head(10)"
   ]
  },
  {
   "cell_type": "code",
   "execution_count": 9,
   "metadata": {},
   "outputs": [
    {
     "name": "stdout",
     "output_type": "stream",
     "text": [
      "[80 90 90 75  5 40 10  5]\n",
      "[ 40  10  85 115 105 160   5]\n",
      "[ 40 125   5  55  10]\n"
     ]
    }
   ],
   "source": [
    "get_digram_ocurrences(digrams_frequencies[\"letter\"][:3], CIPHER)"
   ]
  },
  {
   "cell_type": "markdown",
   "metadata": {},
   "source": [
    "The common factor is 5, that's the key size :)\n",
    "\n",
    "Once we had find the key size, let's do some frequency analysis: every fifth letter will be encrypted with the same letter of the key."
   ]
  },
  {
   "cell_type": "code",
   "execution_count": 10,
   "metadata": {},
   "outputs": [
    {
     "name": "stdout",
     "output_type": "stream",
     "text": [
      "krqzifwlsyjvwqykhnpikkkqqwvziumllekwsnirfhjxhwvwpfswnswndoxikrewisxthikpavwixewyayarxaqzspwqpwggplekfrjwhwykceyhhirsyeviyoewwsqpwyjoawkgxbjvwvwqijvwtiaqapikrjxmdvzitgvawwmuhiwhowrgzhouywfawvglohiddvyvedhehjrexwwwdsrlhqbpslowifwlmxwxoiqwqppimuokvsqziwslhiwtowrgzhogsepahikdrmvgqoxvsljivsfkxivhqbgwykceyhqveaoagsepampwvpkemfdiilyaypwoqmrsjqivwvefisxmymdhoxggpeuywhppeaghyrsjwgikrjfiudrigmqxvydhcyimoapemwniqapairtrexefwhmrxlnqiixezsddexpwskixwhoxwwpxpetoaeyhuergwgawrmhawumlderlhhexwplixwhpwijlphiddnglwuxeyvhhemjhabmdhoyvdhospsximpahqhikkqiikoaqslskyvwwwkiixwxvwhoxxjdferkhoemdhohiyhwrxdhitiukarxvhievukav\n"
     ]
    }
   ],
   "source": [
    "decrypt(CIPHER, PLAIN_ALPHABET, subs = [0,1,2,3,4])"
   ]
  },
  {
   "cell_type": "code",
   "execution_count": null,
   "metadata": {},
   "outputs": [],
   "source": []
  },
  {
   "cell_type": "code",
   "execution_count": null,
   "metadata": {},
   "outputs": [],
   "source": []
  },
  {
   "cell_type": "code",
   "execution_count": null,
   "metadata": {},
   "outputs": [],
   "source": []
  }
 ],
 "metadata": {
  "kernelspec": {
   "display_name": "Python 3",
   "language": "python",
   "name": "python3"
  },
  "language_info": {
   "codemirror_mode": {
    "name": "ipython",
    "version": 2
   },
   "file_extension": ".py",
   "mimetype": "text/x-python",
   "name": "python",
   "nbconvert_exporter": "python",
   "pygments_lexer": "ipython2",
   "version": "2.7.15"
  }
 },
 "nbformat": 4,
 "nbformat_minor": 2
}

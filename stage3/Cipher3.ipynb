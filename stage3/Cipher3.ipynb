{
 "cells": [
  {
   "cell_type": "markdown",
   "metadata": {},
   "source": [
    "# Challenge 3\n"
   ]
  },
  {
   "cell_type": "code",
   "execution_count": 1,
   "metadata": {},
   "outputs": [],
   "source": [
    "import numpy as np\n",
    "import collections\n",
    "import operator\n",
    "import pandas as pd\n",
    "\n",
    "REPLACEMENTS = [[\"M\", \"G\"], [\"C\", \"G\"], [\"Z\", \"G\"], [\"N\", \"G\"], [\"B\", \"G\"]]"
   ]
  },
  {
   "cell_type": "code",
   "execution_count": 2,
   "metadata": {},
   "outputs": [],
   "source": [
    "def load(fname):\n",
    "    data = ''\n",
    "    f = open(fname,'r')\n",
    "    for line in f: \n",
    "        data = data + line.replace(\"\\r\", \"\").replace(\"\\n\", \"\")\n",
    "        \n",
    "    f.close()\n",
    "\n",
    "    return data"
   ]
  },
  {
   "cell_type": "code",
   "execution_count": 3,
   "metadata": {},
   "outputs": [],
   "source": [
    "def replace(string, old, new):\n",
    "    string = string.replace(old, new)\n",
    "    return string"
   ]
  },
  {
   "cell_type": "code",
   "execution_count": 4,
   "metadata": {},
   "outputs": [],
   "source": [
    "def count_frequencies(cipher, replace = None):\n",
    "    if replace:\n",
    "        for pairs in replace:\n",
    "            cipher = cipher.replace(pairs[0], pairs[1]) \n",
    "            \n",
    "    count_dict = {}\n",
    "    \n",
    "    for letter in cipher:\n",
    "        try:\n",
    "            count_dict[letter] = count_dict[letter] + 1\n",
    "        except KeyError:\n",
    "            count_dict[letter] = 1\n",
    "    dataframe = pd.DataFrame(sorted(count_dict.items(), key=operator.itemgetter(1)),\n",
    "                             columns=[\"letter\", \"count\"])\n",
    "    dataframe[\"percentage\"] = dataframe[\"count\"]/len(cipher)\n",
    "    return dataframe"
   ]
  },
  {
   "cell_type": "code",
   "execution_count": 5,
   "metadata": {},
   "outputs": [],
   "source": [
    "def decrypt(cipher, cipher_alpha, replace=None):\n",
    "    if replace:\n",
    "        for pairs in replace:\n",
    "            cipher = cipher.replace(pairs[0], pairs[1])\n",
    "    decrypted_msg = []\n",
    "    for letter in cipher:\n",
    "        decrypted_msg.append(cipher_alpha.get(letter, letter)[0])\n",
    "    return ''.join(decrypted_msg)"
   ]
  },
  {
   "cell_type": "code",
   "execution_count": 6,
   "metadata": {},
   "outputs": [],
   "source": [
    "# Load file\n",
    "PATH = \"./cipher.txt\"\n",
    "\n",
    "CIPHER = load(PATH)"
   ]
  },
  {
   "cell_type": "code",
   "execution_count": 7,
   "metadata": {},
   "outputs": [
    {
     "data": {
      "text/plain": [
       "'IXDVMUFXLFEEFXSOQXYQVXSQTUIXWF*FMXYQVFJ*FXEFQUQXJFPTUFXMX*ISSFLQTUQXMXRPQEUMXUMTUIXYFSSFI*MXKFJF*FMXLQXTIEUVFXEQTEFXSOQXLQ*XVFWMTQTUQXTITXKIJ*FMUQXTQJMVX*QEYQVFQTHMXLFVQUVIXM*XEI*XLQ*XWITLIXEQTHGXJQTUQXSITEFLQVGUQX*GXKIEUVGXEQWQTHGXDGUFXTITXDIEUQXGXKFKQVXSIWQXAVPUFXWGXYQVXEQJPFVXKFVUPUQXQXSGTIESQTHGX*FXWFQFXSIWYGJTFXDQSFIXEFXGJPUFXSITXRPQEUGXIVGHFITXYFSSFI*CXC*XSCWWFTIXSOQXCXYQTCXYIESFCX*FXCKVQFXVFUQTPUFXQXKI*UCXTIEUVCXYIYYCXTQ*XWCUUFTIXLQFXVQWFXDCSQWWIXC*FXC*XDI**QXKI*IXEQWYVQXCSRPFEUCTLIXLC*X*CUIXWCTSFTIXUPUUQX*QXEUQ**QXJFCXLQX*C*UVIXYI*IXKQLQCX*CXTIUUQXQX*XTIEUVIXUCTUIXACEEIXSOQXTITXEPVJQCXDPIVXLQ*XWCVFTXEPI*IXSFTRPQXKI*UQXVCSSQEIXQXUCTUIXSCEEIX*IX*PWQXQVZXLFXEIUUIXLZX*ZX*PTZXYIFXSOQXTUVZUFXQVZKZWXTQX*Z*UIXYZEEIRPZTLIXTZYYZVKQXPTZXWITUZJTZXAVPTZXYQVX*ZXLFEUZTHZXQXYZVKQWFXZ*UZXUZTUIXRPZTUIXKQLPUZXTITXZKQZXZ*SPTZXTIFXSFXZ**QJVNWWIXQXUIEUIXUIVTIXFTXYFNTUIXSOQXLQX*NXTIKNXUQVVNXPTXUPVAIXTNSRPQXQXYQVSIEEQXLQ*X*QJTIXF*XYVFWIXSNTUIXUVQXKI*UQXF*XDQXJFVBVXSITXUPUUQX*BSRPQXBX*BXRPBVUBX*QKBVX*BXYIYYBXFTXEPEIXQX*BXYVIVBXFVQXFTXJFPXSIWB*UVPFXYFBSRPQFTDFTXSOQX*XWBVXDPXEIYVBXTIFXVFSOFPEIXX*BXYBVI*BXFTXSILFSQXQXQRPBUIV'"
      ]
     },
     "execution_count": 7,
     "metadata": {},
     "output_type": "execute_result"
    }
   ],
   "source": [
    "CIPHER"
   ]
  },
  {
   "cell_type": "markdown",
   "metadata": {},
   "source": [
    "# Frequency analysis"
   ]
  },
  {
   "cell_type": "code",
   "execution_count": 8,
   "metadata": {},
   "outputs": [
    {
     "data": {
      "text/html": [
       "<div>\n",
       "<style scoped>\n",
       "    .dataframe tbody tr th:only-of-type {\n",
       "        vertical-align: middle;\n",
       "    }\n",
       "\n",
       "    .dataframe tbody tr th {\n",
       "        vertical-align: top;\n",
       "    }\n",
       "\n",
       "    .dataframe thead th {\n",
       "        text-align: right;\n",
       "    }\n",
       "</style>\n",
       "<table border=\"1\" class=\"dataframe\">\n",
       "  <thead>\n",
       "    <tr style=\"text-align: right;\">\n",
       "      <th></th>\n",
       "      <th>letter</th>\n",
       "      <th>count</th>\n",
       "      <th>percentage</th>\n",
       "    </tr>\n",
       "  </thead>\n",
       "  <tbody>\n",
       "    <tr>\n",
       "      <th>0</th>\n",
       "      <td>A</td>\n",
       "      <td>4</td>\n",
       "      <td>0.003565</td>\n",
       "    </tr>\n",
       "    <tr>\n",
       "      <th>1</th>\n",
       "      <td>H</td>\n",
       "      <td>6</td>\n",
       "      <td>0.005348</td>\n",
       "    </tr>\n",
       "    <tr>\n",
       "      <th>2</th>\n",
       "      <td>N</td>\n",
       "      <td>7</td>\n",
       "      <td>0.006239</td>\n",
       "    </tr>\n",
       "    <tr>\n",
       "      <th>3</th>\n",
       "      <td>O</td>\n",
       "      <td>8</td>\n",
       "      <td>0.007130</td>\n",
       "    </tr>\n",
       "    <tr>\n",
       "      <th>4</th>\n",
       "      <td>D</td>\n",
       "      <td>10</td>\n",
       "      <td>0.008913</td>\n",
       "    </tr>\n",
       "    <tr>\n",
       "      <th>5</th>\n",
       "      <td>R</td>\n",
       "      <td>11</td>\n",
       "      <td>0.009804</td>\n",
       "    </tr>\n",
       "    <tr>\n",
       "      <th>6</th>\n",
       "      <td>M</td>\n",
       "      <td>13</td>\n",
       "      <td>0.011586</td>\n",
       "    </tr>\n",
       "    <tr>\n",
       "      <th>7</th>\n",
       "      <td>G</td>\n",
       "      <td>14</td>\n",
       "      <td>0.012478</td>\n",
       "    </tr>\n",
       "    <tr>\n",
       "      <th>8</th>\n",
       "      <td>J</td>\n",
       "      <td>16</td>\n",
       "      <td>0.014260</td>\n",
       "    </tr>\n",
       "    <tr>\n",
       "      <th>9</th>\n",
       "      <td>B</td>\n",
       "      <td>19</td>\n",
       "      <td>0.016934</td>\n",
       "    </tr>\n",
       "    <tr>\n",
       "      <th>10</th>\n",
       "      <td>K</td>\n",
       "      <td>19</td>\n",
       "      <td>0.016934</td>\n",
       "    </tr>\n",
       "    <tr>\n",
       "      <th>11</th>\n",
       "      <td>L</td>\n",
       "      <td>22</td>\n",
       "      <td>0.019608</td>\n",
       "    </tr>\n",
       "    <tr>\n",
       "      <th>12</th>\n",
       "      <td>W</td>\n",
       "      <td>26</td>\n",
       "      <td>0.023173</td>\n",
       "    </tr>\n",
       "    <tr>\n",
       "      <th>13</th>\n",
       "      <td>C</td>\n",
       "      <td>30</td>\n",
       "      <td>0.026738</td>\n",
       "    </tr>\n",
       "    <tr>\n",
       "      <th>14</th>\n",
       "      <td>Y</td>\n",
       "      <td>30</td>\n",
       "      <td>0.026738</td>\n",
       "    </tr>\n",
       "    <tr>\n",
       "      <th>15</th>\n",
       "      <td>Z</td>\n",
       "      <td>30</td>\n",
       "      <td>0.026738</td>\n",
       "    </tr>\n",
       "    <tr>\n",
       "      <th>16</th>\n",
       "      <td>P</td>\n",
       "      <td>35</td>\n",
       "      <td>0.031194</td>\n",
       "    </tr>\n",
       "    <tr>\n",
       "      <th>17</th>\n",
       "      <td>E</td>\n",
       "      <td>42</td>\n",
       "      <td>0.037433</td>\n",
       "    </tr>\n",
       "    <tr>\n",
       "      <th>18</th>\n",
       "      <td>S</td>\n",
       "      <td>42</td>\n",
       "      <td>0.037433</td>\n",
       "    </tr>\n",
       "    <tr>\n",
       "      <th>19</th>\n",
       "      <td>V</td>\n",
       "      <td>56</td>\n",
       "      <td>0.049911</td>\n",
       "    </tr>\n",
       "    <tr>\n",
       "      <th>20</th>\n",
       "      <td>*</td>\n",
       "      <td>62</td>\n",
       "      <td>0.055258</td>\n",
       "    </tr>\n",
       "    <tr>\n",
       "      <th>21</th>\n",
       "      <td>U</td>\n",
       "      <td>70</td>\n",
       "      <td>0.062389</td>\n",
       "    </tr>\n",
       "    <tr>\n",
       "      <th>22</th>\n",
       "      <td>T</td>\n",
       "      <td>72</td>\n",
       "      <td>0.064171</td>\n",
       "    </tr>\n",
       "    <tr>\n",
       "      <th>23</th>\n",
       "      <td>F</td>\n",
       "      <td>79</td>\n",
       "      <td>0.070410</td>\n",
       "    </tr>\n",
       "    <tr>\n",
       "      <th>24</th>\n",
       "      <td>I</td>\n",
       "      <td>89</td>\n",
       "      <td>0.079323</td>\n",
       "    </tr>\n",
       "    <tr>\n",
       "      <th>25</th>\n",
       "      <td>Q</td>\n",
       "      <td>103</td>\n",
       "      <td>0.091800</td>\n",
       "    </tr>\n",
       "    <tr>\n",
       "      <th>26</th>\n",
       "      <td>X</td>\n",
       "      <td>207</td>\n",
       "      <td>0.184492</td>\n",
       "    </tr>\n",
       "  </tbody>\n",
       "</table>\n",
       "</div>"
      ],
      "text/plain": [
       "   letter  count  percentage\n",
       "0       A      4    0.003565\n",
       "1       H      6    0.005348\n",
       "2       N      7    0.006239\n",
       "3       O      8    0.007130\n",
       "4       D     10    0.008913\n",
       "5       R     11    0.009804\n",
       "6       M     13    0.011586\n",
       "7       G     14    0.012478\n",
       "8       J     16    0.014260\n",
       "9       B     19    0.016934\n",
       "10      K     19    0.016934\n",
       "11      L     22    0.019608\n",
       "12      W     26    0.023173\n",
       "13      C     30    0.026738\n",
       "14      Y     30    0.026738\n",
       "15      Z     30    0.026738\n",
       "16      P     35    0.031194\n",
       "17      E     42    0.037433\n",
       "18      S     42    0.037433\n",
       "19      V     56    0.049911\n",
       "20      *     62    0.055258\n",
       "21      U     70    0.062389\n",
       "22      T     72    0.064171\n",
       "23      F     79    0.070410\n",
       "24      I     89    0.079323\n",
       "25      Q    103    0.091800\n",
       "26      X    207    0.184492"
      ]
     },
     "execution_count": 8,
     "metadata": {},
     "output_type": "execute_result"
    }
   ],
   "source": [
    "count_frequencies(CIPHER)"
   ]
  },
  {
   "cell_type": "markdown",
   "metadata": {},
   "source": [
    "The frequency of letter X is too high, the blank spaces and punctuations marks were not given. \n",
    "\n",
    "It's probably safe to assume that 'X' letter represents the blank spaces. The punctuations marks may not be present but blank spaces will surely be\n"
   ]
  },
  {
   "cell_type": "code",
   "execution_count": 9,
   "metadata": {},
   "outputs": [
    {
     "data": {
      "text/plain": [
       "'I DVMUF LFEEF SOQ YQV SQTUI WF*FM YQVFJ*F EFQUQ JFPTUF M *ISSFLQTUQ M RPQEUM UMTUI YFSSFI*M KFJF*FM LQ TIEUVF EQTEF SOQ LQ* VFWMTQTUQ TIT KIJ*FMUQ TQJMV *QEYQVFQTHM LFVQUVI M* EI* LQ* WITLI EQTHG JQTUQ SITEFLQVGUQ *G KIEUVG EQWQTHG DGUF TIT DIEUQ G KFKQV SIWQ AVPUF WG YQV EQJPFV KFVUPUQ Q SGTIESQTHG *F WFQF SIWYGJTF DQSFI EF GJPUF SIT RPQEUG IVGHFIT YFSSFI*C C* SCWWFTI SOQ C YQTC YIESFC *F CKVQF VFUQTPUF Q KI*UC TIEUVC YIYYC TQ* WCUUFTI LQF VQWF DCSQWWI C*F C* DI**Q KI*I EQWYVQ CSRPFEUCTLI LC* *CUI WCTSFTI UPUUQ *Q EUQ**Q JFC LQ *C*UVI YI*I KQLQC *C TIUUQ Q * TIEUVI UCTUI ACEEI SOQ TIT EPVJQC DPIV LQ* WCVFT EPI*I SFTRPQ KI*UQ VCSSQEI Q UCTUI SCEEI *I *PWQ QVZ LF EIUUI LZ *Z *PTZ YIF SOQ TUVZUF QVZKZW TQ *Z*UI YZEEIRPZTLI TZYYZVKQ PTZ WITUZJTZ AVPTZ YQV *Z LFEUZTHZ Q YZVKQWF Z*UZ UZTUI RPZTUI KQLPUZ TIT ZKQZ Z*SPTZ TIF SF Z**QJVNWWI Q UIEUI UIVTI FT YFNTUI SOQ LQ *N TIKN UQVVN PT UPVAI TNSRPQ Q YQVSIEEQ LQ* *QJTI F* YVFWI SNTUI UVQ KI*UQ F* DQ JFVBV SIT UPUUQ *BSRPQ B *B RPBVUB *QKBV *B YIYYB FT EPEI Q *B YVIVB FVQ FT JFP SIWB*UVPF YFBSRPQFTDFT SOQ * WBV DP EIYVB TIF VFSOFPEI  *B YBVI*B FT SILFSQ Q QRPBUIV'"
      ]
     },
     "execution_count": 9,
     "metadata": {},
     "output_type": "execute_result"
    }
   ],
   "source": [
    "cipher_alphabet = {\n",
    "    \"X\" : ' '\n",
    "}\n",
    "\n",
    "decrypt_message = decrypt(CIPHER, cipher_alphabet)\n",
    "decrypt_message"
   ]
  },
  {
   "cell_type": "markdown",
   "metadata": {},
   "source": [
    "The Q letter has the high frequency and I'm assuming that the cipher is written in English - where E, T, A and O are the most common ones. However, it's a homophonic substitution cipher, so I'm not assuming yet that Q letter represents \"e\", I tried instead to look for patterns and try to find some letters that may represents the same one in plaintext. \n",
    "\n",
    "After a while looking at the computer screen and a lot of \"Ctrl+F\" for highlights, I realized some pattern for \"M, G, C, Z, N, B\": each letter appears only in a few lines of text. I'm assuming they represent the same letter. So, the new frequency analysis is:"
   ]
  },
  {
   "cell_type": "code",
   "execution_count": 10,
   "metadata": {},
   "outputs": [
    {
     "data": {
      "text/html": [
       "<div>\n",
       "<style scoped>\n",
       "    .dataframe tbody tr th:only-of-type {\n",
       "        vertical-align: middle;\n",
       "    }\n",
       "\n",
       "    .dataframe tbody tr th {\n",
       "        vertical-align: top;\n",
       "    }\n",
       "\n",
       "    .dataframe thead th {\n",
       "        text-align: right;\n",
       "    }\n",
       "</style>\n",
       "<table border=\"1\" class=\"dataframe\">\n",
       "  <thead>\n",
       "    <tr style=\"text-align: right;\">\n",
       "      <th></th>\n",
       "      <th>letter</th>\n",
       "      <th>count</th>\n",
       "      <th>percentage</th>\n",
       "    </tr>\n",
       "  </thead>\n",
       "  <tbody>\n",
       "    <tr>\n",
       "      <th>0</th>\n",
       "      <td>A</td>\n",
       "      <td>4</td>\n",
       "      <td>0.003565</td>\n",
       "    </tr>\n",
       "    <tr>\n",
       "      <th>1</th>\n",
       "      <td>H</td>\n",
       "      <td>6</td>\n",
       "      <td>0.005348</td>\n",
       "    </tr>\n",
       "    <tr>\n",
       "      <th>2</th>\n",
       "      <td>O</td>\n",
       "      <td>8</td>\n",
       "      <td>0.007130</td>\n",
       "    </tr>\n",
       "    <tr>\n",
       "      <th>3</th>\n",
       "      <td>D</td>\n",
       "      <td>10</td>\n",
       "      <td>0.008913</td>\n",
       "    </tr>\n",
       "    <tr>\n",
       "      <th>4</th>\n",
       "      <td>R</td>\n",
       "      <td>11</td>\n",
       "      <td>0.009804</td>\n",
       "    </tr>\n",
       "    <tr>\n",
       "      <th>5</th>\n",
       "      <td>J</td>\n",
       "      <td>16</td>\n",
       "      <td>0.014260</td>\n",
       "    </tr>\n",
       "    <tr>\n",
       "      <th>6</th>\n",
       "      <td>K</td>\n",
       "      <td>19</td>\n",
       "      <td>0.016934</td>\n",
       "    </tr>\n",
       "    <tr>\n",
       "      <th>7</th>\n",
       "      <td>L</td>\n",
       "      <td>22</td>\n",
       "      <td>0.019608</td>\n",
       "    </tr>\n",
       "    <tr>\n",
       "      <th>8</th>\n",
       "      <td>W</td>\n",
       "      <td>26</td>\n",
       "      <td>0.023173</td>\n",
       "    </tr>\n",
       "    <tr>\n",
       "      <th>9</th>\n",
       "      <td>Y</td>\n",
       "      <td>30</td>\n",
       "      <td>0.026738</td>\n",
       "    </tr>\n",
       "    <tr>\n",
       "      <th>10</th>\n",
       "      <td>P</td>\n",
       "      <td>35</td>\n",
       "      <td>0.031194</td>\n",
       "    </tr>\n",
       "    <tr>\n",
       "      <th>11</th>\n",
       "      <td>E</td>\n",
       "      <td>42</td>\n",
       "      <td>0.037433</td>\n",
       "    </tr>\n",
       "    <tr>\n",
       "      <th>12</th>\n",
       "      <td>S</td>\n",
       "      <td>42</td>\n",
       "      <td>0.037433</td>\n",
       "    </tr>\n",
       "    <tr>\n",
       "      <th>13</th>\n",
       "      <td>V</td>\n",
       "      <td>56</td>\n",
       "      <td>0.049911</td>\n",
       "    </tr>\n",
       "    <tr>\n",
       "      <th>14</th>\n",
       "      <td>*</td>\n",
       "      <td>62</td>\n",
       "      <td>0.055258</td>\n",
       "    </tr>\n",
       "    <tr>\n",
       "      <th>15</th>\n",
       "      <td>U</td>\n",
       "      <td>70</td>\n",
       "      <td>0.062389</td>\n",
       "    </tr>\n",
       "    <tr>\n",
       "      <th>16</th>\n",
       "      <td>T</td>\n",
       "      <td>72</td>\n",
       "      <td>0.064171</td>\n",
       "    </tr>\n",
       "    <tr>\n",
       "      <th>17</th>\n",
       "      <td>F</td>\n",
       "      <td>79</td>\n",
       "      <td>0.070410</td>\n",
       "    </tr>\n",
       "    <tr>\n",
       "      <th>18</th>\n",
       "      <td>I</td>\n",
       "      <td>89</td>\n",
       "      <td>0.079323</td>\n",
       "    </tr>\n",
       "    <tr>\n",
       "      <th>19</th>\n",
       "      <td>Q</td>\n",
       "      <td>103</td>\n",
       "      <td>0.091800</td>\n",
       "    </tr>\n",
       "    <tr>\n",
       "      <th>20</th>\n",
       "      <td>G</td>\n",
       "      <td>113</td>\n",
       "      <td>0.100713</td>\n",
       "    </tr>\n",
       "    <tr>\n",
       "      <th>21</th>\n",
       "      <td>X</td>\n",
       "      <td>207</td>\n",
       "      <td>0.184492</td>\n",
       "    </tr>\n",
       "  </tbody>\n",
       "</table>\n",
       "</div>"
      ],
      "text/plain": [
       "   letter  count  percentage\n",
       "0       A      4    0.003565\n",
       "1       H      6    0.005348\n",
       "2       O      8    0.007130\n",
       "3       D     10    0.008913\n",
       "4       R     11    0.009804\n",
       "5       J     16    0.014260\n",
       "6       K     19    0.016934\n",
       "7       L     22    0.019608\n",
       "8       W     26    0.023173\n",
       "9       Y     30    0.026738\n",
       "10      P     35    0.031194\n",
       "11      E     42    0.037433\n",
       "12      S     42    0.037433\n",
       "13      V     56    0.049911\n",
       "14      *     62    0.055258\n",
       "15      U     70    0.062389\n",
       "16      T     72    0.064171\n",
       "17      F     79    0.070410\n",
       "18      I     89    0.079323\n",
       "19      Q    103    0.091800\n",
       "20      G    113    0.100713\n",
       "21      X    207    0.184492"
      ]
     },
     "execution_count": 10,
     "metadata": {},
     "output_type": "execute_result"
    }
   ],
   "source": [
    "count_frequencies(CIPHER, REPLACEMENTS)"
   ]
  },
  {
   "cell_type": "code",
   "execution_count": 11,
   "metadata": {},
   "outputs": [
    {
     "data": {
      "text/plain": [
       "'I DVGUF LFEEF SOQ YQV SQTUI WF*FG YQVFJ*F EFQUQ JFPTUF G *ISSFLQTUQ G RPQEUG UGTUI YFSSFI*G KFJF*FG LQ TIEUVF EQTEF SOQ LQ* VFWGTQTUQ TIT KIJ*FGUQ TQJGV *QEYQVFQTHG LFVQUVI G* EI* LQ* WITLI EQTHG JQTUQ SITEFLQVGUQ *G KIEUVG EQWQTHG DGUF TIT DIEUQ G KFKQV SIWQ AVPUF WG YQV EQJPFV KFVUPUQ Q SGTIESQTHG *F WFQF SIWYGJTF DQSFI EF GJPUF SIT RPQEUG IVGHFIT YFSSFI*G G* SGWWFTI SOQ G YQTG YIESFG *F GKVQF VFUQTPUF Q KI*UG TIEUVG YIYYG TQ* WGUUFTI LQF VQWF DGSQWWI G*F G* DI**Q KI*I EQWYVQ GSRPFEUGTLI LG* *GUI WGTSFTI UPUUQ *Q EUQ**Q JFG LQ *G*UVI YI*I KQLQG *G TIUUQ Q * TIEUVI UGTUI AGEEI SOQ TIT EPVJQG DPIV LQ* WGVFT EPI*I SFTRPQ KI*UQ VGSSQEI Q UGTUI SGEEI *I *PWQ QVG LF EIUUI LG *G *PTG YIF SOQ TUVGUF QVGKGW TQ *G*UI YGEEIRPGTLI TGYYGVKQ PTG WITUGJTG AVPTG YQV *G LFEUGTHG Q YGVKQWF G*UG UGTUI RPGTUI KQLPUG TIT GKQG G*SPTG TIF SF G**QJVGWWI Q UIEUI UIVTI FT YFGTUI SOQ LQ *G TIKG UQVVG PT UPVAI TGSRPQ Q YQVSIEEQ LQ* *QJTI F* YVFWI SGTUI UVQ KI*UQ F* DQ JFVGV SIT UPUUQ *GSRPQ G *G RPGVUG *QKGV *G YIYYG FT EPEI Q *G YVIVG FVQ FT JFP SIWG*UVPF YFGSRPQFTDFT SOQ * WGV DP EIYVG TIF VFSOFPEI  *G YGVI*G FT SILFSQ Q QRPGUIV'"
      ]
     },
     "execution_count": 11,
     "metadata": {},
     "output_type": "execute_result"
    }
   ],
   "source": [
    "cipher_alphabet = {\n",
    "    \"X\" : ' '\n",
    "}\n",
    "\n",
    "decrypt_message = decrypt(CIPHER, cipher_alphabet, REPLACEMENTS)\n",
    "decrypt_message"
   ]
  },
  {
   "cell_type": "markdown",
   "metadata": {},
   "source": [
    "At this point, we can see that the letters that appear alone in the text are : \"G\", \"Q\" and \"I\" (just one occurence). In English, the letters that appear alone in sentences are usually \"a\" and \"i\". At first I thought that \"I\" and (\"G\" or \"Q\") represents the same letter, but the summed frequency for any combination would be too high.\n",
    "\n",
    "I got stuck here for a long time, but my first attempt was that \"I\" represents the letter \"o\" and \"G\" or \"Q\" must represents \"a\"."
   ]
  },
  {
   "cell_type": "code",
   "execution_count": 12,
   "metadata": {},
   "outputs": [
    {
     "data": {
      "text/plain": [
       "'o DVGUF LFEEF SOQ YQV SQTUo WF*FG YQVFJ*F EFQUQ JFPTUF G *oSSFLQTUQ G RPQEUG UGTUo YFSSFo*G KFJF*FG LQ ToEUVF EQTEF SOQ LQ* VFWGTQTUQ ToT KoJ*FGUQ TQJGV *QEYQVFQTHG LFVQUVo G* Eo* LQ* WoTLo EQTHG JQTUQ SoTEFLQVGUQ *G KoEUVG EQWQTHG DGUF ToT DoEUQ G KFKQV SoWQ AVPUF WG YQV EQJPFV KFVUPUQ Q SGToESQTHG *F WFQF SoWYGJTF DQSFo EF GJPUF SoT RPQEUG oVGHFoT YFSSFo*G G* SGWWFTo SOQ G YQTG YoESFG *F GKVQF VFUQTPUF Q Ko*UG ToEUVG YoYYG TQ* WGUUFTo LQF VQWF DGSQWWo G*F G* Do**Q Ko*o EQWYVQ GSRPFEUGTLo LG* *GUo WGTSFTo UPUUQ *Q EUQ**Q JFG LQ *G*UVo Yo*o KQLQG *G ToUUQ Q * ToEUVo UGTUo AGEEo SOQ ToT EPVJQG DPoV LQ* WGVFT EPo*o SFTRPQ Ko*UQ VGSSQEo Q UGTUo SGEEo *o *PWQ QVG LF EoUUo LG *G *PTG YoF SOQ TUVGUF QVGKGW TQ *G*Uo YGEEoRPGTLo TGYYGVKQ PTG WoTUGJTG AVPTG YQV *G LFEUGTHG Q YGVKQWF G*UG UGTUo RPGTUo KQLPUG ToT GKQG G*SPTG ToF SF G**QJVGWWo Q UoEUo UoVTo FT YFGTUo SOQ LQ *G ToKG UQVVG PT UPVAo TGSRPQ Q YQVSoEEQ LQ* *QJTo F* YVFWo SGTUo UVQ Ko*UQ F* DQ JFVGV SoT UPUUQ *GSRPQ G *G RPGVUG *QKGV *G YoYYG FT EPEo Q *G YVoVG FVQ FT JFP SoWG*UVPF YFGSRPQFTDFT SOQ * WGV DP EoYVG ToF VFSOFPEo  *G YGVo*G FT SoLFSQ Q QRPGUoV'"
      ]
     },
     "execution_count": 12,
     "metadata": {},
     "output_type": "execute_result"
    }
   ],
   "source": [
    "cipher_alphabet = {\n",
    "    \"X\" : ' ',\n",
    "    \"I\" : 'o'\n",
    "}\n",
    "\n",
    "decrypt_message = decrypt(CIPHER, cipher_alphabet, REPLACEMENTS)\n",
    "decrypt_message"
   ]
  },
  {
   "cell_type": "markdown",
   "metadata": {},
   "source": [
    "At this point, I realized that:\n",
    "\n",
    "1. The frequency of words with last letter \"Q\" is really high, maybe \"Q\" represents \"E\". \n",
    "\n",
    "2. I already grouped six letters to represent the same one. On the other side, we just have one extra character (*). I assumed that we wouldn't have many other cases of two or more letters representing one, so the letter that represents \"E\" was already on top frequency list.\n",
    "\n",
    "3. The things were not made any sense in English language. I accepted that the text could be written in another language but I decided to replace the Q = e and G = a (top 3 frequency words)\n",
    "\n",
    "4. So, i inspect \"*\" and I realized that the symbol appears a lot before and after some vowels (e, a, o), so I thought that could corresponds to \"á, é, è, ó, ù\" on italian. I realized later that this guess was wrong but that's when I thought \"maybe it's Italian\".\n"
   ]
  },
  {
   "cell_type": "code",
   "execution_count": 13,
   "metadata": {},
   "outputs": [
    {
     "data": {
      "text/plain": [
       "'o DVaUF LFEEF SOe YeV SeTUo WF*Fa YeVFJ*F EFeUe JFPTUF a *oSSFLeTUe a RPeEUa UaTUo YFSSFo*a KFJF*Fa Le ToEUVF EeTEF SOe Le* VFWaTeTUe ToT KoJ*FaUe TeJaV *eEYeVFeTHa LFVeUVo a* Eo* Le* WoTLo EeTHa JeTUe SoTEFLeVaUe *a KoEUVa EeWeTHa DaUF ToT DoEUe a KFKeV SoWe AVPUF Wa YeV EeJPFV KFVUPUe e SaToESeTHa *F WFeF SoWYaJTF DeSFo EF aJPUF SoT RPeEUa oVaHFoT YFSSFo*a a* SaWWFTo SOe a YeTa YoESFa *F aKVeF VFUeTPUF e Ko*Ua ToEUVa YoYYa Te* WaUUFTo LeF VeWF DaSeWWo a*F a* Do**e Ko*o EeWYVe aSRPFEUaTLo La* *aUo WaTSFTo UPUUe *e EUe**e JFa Le *a*UVo Yo*o KeLea *a ToUUe e * ToEUVo UaTUo AaEEo SOe ToT EPVJea DPoV Le* WaVFT EPo*o SFTRPe Ko*Ue VaSSeEo e UaTUo SaEEo *o *PWe eVa LF EoUUo La *a *PTa YoF SOe TUVaUF eVaKaW Te *a*Uo YaEEoRPaTLo TaYYaVKe PTa WoTUaJTa AVPTa YeV *a LFEUaTHa e YaVKeWF a*Ua UaTUo RPaTUo KeLPUa ToT aKea a*SPTa ToF SF a**eJVaWWo e UoEUo UoVTo FT YFaTUo SOe Le *a ToKa UeVVa PT UPVAo TaSRPe e YeVSoEEe Le* *eJTo F* YVFWo SaTUo UVe Ko*Ue F* De JFVaV SoT UPUUe *aSRPe a *a RPaVUa *eKaV *a YoYYa FT EPEo e *a YVoVa FVe FT JFP SoWa*UVPF YFaSRPeFTDFT SOe * WaV DP EoYVa ToF VFSOFPEo  *a YaVo*a FT SoLFSe e eRPaUoV'"
      ]
     },
     "execution_count": 13,
     "metadata": {},
     "output_type": "execute_result"
    }
   ],
   "source": [
    "cipher_alphabet = {\n",
    "    \"X\" : ' ',\n",
    "    \"I\" : 'o',\n",
    "    \"Q\" : \"e\",\n",
    "    \"G\" : \"a\"\n",
    "}\n",
    "\n",
    "decrypt_message = decrypt(CIPHER, cipher_alphabet, REPLACEMENTS)\n",
    "decrypt_message "
   ]
  },
  {
   "cell_type": "code",
   "execution_count": 16,
   "metadata": {},
   "outputs": [],
   "source": [
    "# Italian letter frequency: https://www.sttmedia.com/characterfrequency-italian\n",
    "italian_letter_frequency = 'EAIONTRLSCDUPMVGHBFZQÈÀÙÒÌÉ'"
   ]
  },
  {
   "cell_type": "markdown",
   "metadata": {},
   "source": [
    "Then I could recognize some frequent words like \"che\", \"non\", \"cento\", \"yanto\" and then I realized that \"*\" was, in fact, \"l\".\n"
   ]
  },
  {
   "cell_type": "code",
   "execution_count": 17,
   "metadata": {},
   "outputs": [
    {
     "data": {
      "text/plain": [
       "'o DVatF LFEEF che YeV cento WFlFa YeVFJlF EFete JFPntF a loccFLente a RPeEta tanto YFccFola KFJFlFa Le noEtVF EenEF che Lel VFWanente non KoJlFate neJaV leEYeVFenHa LFVetVo al Eol Lel WonLo EenHa Jente conEFLeVate la KoEtVa EeWenHa DatF non DoEte a KFKeV coWe AVPtF Wa YeV EeJPFV KFVtPte e canoEcenHa lF WFeF coWYaJnF DecFo EF aJPtF con RPeEta oVaHFon YFccFola al caWWFno che a Yena YoEcFa lF aKVeF VFtenPtF e Kolta noEtVa YoYYa nel WattFno LeF VeWF DaceWWo alF al Dolle Kolo EeWYVe acRPFEtanLo Lal lato WancFno tPtte le Etelle JFa Le laltVo Yolo KeLea la notte e l noEtVo tanto AaEEo che non EPVJea DPoV Lel WaVFn EPolo cFnRPe Kolte VacceEo e tanto caEEo lo lPWe eVa LF Eotto La la lPna YoF che ntVatF eVaKaW ne lalto YaEEoRPanLo naYYaVKe Pna WontaJna AVPna YeV la LFEtanHa e YaVKeWF alta tanto RPanto KeLPta non aKea alcPna noF cF alleJVaWWo e toEto toVno Fn YFanto che Le la noKa teVVa Pn tPVAo nacRPe e YeVcoEEe Lel leJno Fl YVFWo canto tVe Kolte Fl De JFVaV con tPtte lacRPe a la RPaVta leKaV la YoYYa Fn EPEo e la YVoVa FVe Fn JFP coWaltVPF YFacRPeFnDFn che l WaV DP EoYVa noF VFchFPEo  la YaVola Fn coLFce e eRPatoV'"
      ]
     },
     "execution_count": 17,
     "metadata": {},
     "output_type": "execute_result"
    }
   ],
   "source": [
    "cipher_alphabet = {\n",
    "    \"X\" : ' ',\n",
    "    \"I\" : 'o',\n",
    "    \"Q\" : \"e\",\n",
    "    \"G\" : \"a\",\n",
    "    \"S\" : \"c\",\n",
    "    \"O\" : \"h\",\n",
    "    \"T\" : \"n\",\n",
    "    \"U\" : \"t\",\n",
    "    \"*\" : \"l'\"\n",
    "}\n",
    "\n",
    "decrypt_message = decrypt(CIPHER, cipher_alphabet, REPLACEMENTS)\n",
    "decrypt_message "
   ]
  },
  {
   "cell_type": "markdown",
   "metadata": {},
   "source": [
    "From there, a lot off Google tradutor to check some guess..."
   ]
  },
  {
   "cell_type": "code",
   "execution_count": 18,
   "metadata": {},
   "outputs": [
    {
     "data": {
      "text/plain": [
       "'o frati dissi che per cento milia perigli siete giunti a loccidente a questa tanto picciola vigilia de nostri sensi che del rimanente non vogliate negar lesperienza diretro al sol del mondo senza gente considerate la vostra semenza fati non foste a viver come bruti ma per seguir virtute e canoscenza li miei compagni fecio si aguti con questa orazion picciola al cammino che a pena poscia li avrei ritenuti e volta nostra poppa nel mattino dei remi facemmo ali al folle volo sempre acquistando dal lato mancino tutte le stelle gia de laltro polo vedea la notte e l nostro tanto basso che non surgea fuor del marin suolo cinque volte racceso e tanto casso lo lume era di sotto da la luna poi che ntrati eravam ne lalto passoquando napparve una montagna bruna per la distanza e parvemi alta tanto quanto veduta non avea alcuna noi ci allegrammo e tosto torno in pianto che de la nova terra un turbo nacque e percosse del legno il primo canto tre volte il fe girar con tutte lacque a la quarta levar la poppa in suso e la prora ire in giu comaltrui piacqueinfin che l mar fu sopra noi richiuso  la parola in codice e equator'"
      ]
     },
     "execution_count": 18,
     "metadata": {},
     "output_type": "execute_result"
    }
   ],
   "source": [
    "cipher_alphabet = {\n",
    "    \"X\" : ' ',\n",
    "    \"I\" : 'o',\n",
    "    \"Q\" : \"e\",\n",
    "    \"G\" : \"a\",\n",
    "    \"S\" : \"c\",\n",
    "    \"O\" : \"h\",\n",
    "    \"T\" : \"n\",\n",
    "    \"U\" : \"t\",\n",
    "    \"*\" : \"l\",\n",
    "    \"S\" : \"c\",\n",
    "    \"O\" : \"h\",\n",
    "    \"F\" : \"i\",\n",
    "    \"L\" : \"d\",\n",
    "    \"P\" : \"u\",\n",
    "    \"R\" : \"q\",\n",
    "    \"V\" : \"r\",\n",
    "    \"Y\" : \"p\",\n",
    "    \"W\" : \"m\",\n",
    "    \"E\" : \"s\",\n",
    "    \"J\" : \"g\",\n",
    "    \"H\" : \"z\",\n",
    "    \"D\" : \"f\",\n",
    "    \"K\" : \"v\",\n",
    "    \"A\" : \"b\"\n",
    "}\n",
    "\n",
    "decrypt_message = decrypt(CIPHER, cipher_alphabet, REPLACEMENTS)\n",
    "decrypt_message "
   ]
  },
  {
   "cell_type": "code",
   "execution_count": 20,
   "metadata": {},
   "outputs": [
    {
     "data": {
      "text/plain": [
       "{'*': 'l',\n",
       " 'A': 'b',\n",
       " 'D': 'f',\n",
       " 'E': 's',\n",
       " 'F': 'i',\n",
       " 'G': 'a',\n",
       " 'H': 'z',\n",
       " 'I': 'o',\n",
       " 'J': 'g',\n",
       " 'K': 'v',\n",
       " 'L': 'd',\n",
       " 'O': 'h',\n",
       " 'P': 'u',\n",
       " 'Q': 'e',\n",
       " 'R': 'q',\n",
       " 'S': 'c',\n",
       " 'T': 'n',\n",
       " 'U': 't',\n",
       " 'V': 'r',\n",
       " 'W': 'm',\n",
       " 'X': ' ',\n",
       " 'Y': 'p'}"
      ]
     },
     "execution_count": 20,
     "metadata": {},
     "output_type": "execute_result"
    }
   ],
   "source": [
    "dict(sorted(cipher_alphabet.items()))"
   ]
  },
  {
   "cell_type": "code",
   "execution_count": 19,
   "metadata": {},
   "outputs": [],
   "source": [
    "# la parola in codice e equator :)"
   ]
  }
 ],
 "metadata": {
  "kernelspec": {
   "display_name": "Python 3",
   "language": "python",
   "name": "python3"
  },
  "language_info": {
   "codemirror_mode": {
    "name": "ipython",
    "version": 2
   },
   "file_extension": ".py",
   "mimetype": "text/x-python",
   "name": "python",
   "nbconvert_exporter": "python",
   "pygments_lexer": "ipython2",
   "version": "2.7.15"
  }
 },
 "nbformat": 4,
 "nbformat_minor": 2
}

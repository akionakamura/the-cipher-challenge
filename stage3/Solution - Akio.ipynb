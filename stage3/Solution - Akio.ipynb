{
 "cells": [
  {
   "cell_type": "markdown",
   "metadata": {},
   "source": [
    "## Stage 3\n",
    "\n",
    "This cipher is the Monoalphabetic Substitution with Homophones, which means that the same plain letter can be substituted by several cipher letter."
   ]
  },
  {
   "cell_type": "code",
   "execution_count": 1,
   "metadata": {},
   "outputs": [],
   "source": [
    "import operator\n",
    "from collections import Counter"
   ]
  },
  {
   "cell_type": "code",
   "execution_count": 2,
   "metadata": {},
   "outputs": [],
   "source": [
    "f = open(\"./cipher.txt\")\n",
    "\n",
    "# It is a one line :)\n",
    "lines = f.readlines()"
   ]
  },
  {
   "cell_type": "markdown",
   "metadata": {},
   "source": [
    "This is the cipher text:"
   ]
  },
  {
   "cell_type": "code",
   "execution_count": 3,
   "metadata": {},
   "outputs": [
    {
     "name": "stdout",
     "output_type": "stream",
     "text": [
      "IXDVMUFXLFEEFXSOQXYQVXSQTUIXWF*FMXYQVFJ*FXEFQUQXJFPTUFXMX*ISSFLQTUQXMXRPQEUMXUMTUIXYFSSFI*MXKFJF*FMXLQXTIEUVFXEQTEFXSOQXLQ*XVFWMTQTUQXTITXKIJ*FMUQXTQJMVX*QEYQVFQTHMXLFVQUVIXM*XEI*XLQ*XWITLIXEQTHGXJQTUQXSITEFLQVGUQX*GXKIEUVGXEQWQTHGXDGUFXTITXDIEUQXGXKFKQVXSIWQXAVPUFXWGXYQVXEQJPFVXKFVUPUQXQXSGTIESQTHGX*FXWFQFXSIWYGJTFXDQSFIXEFXGJPUFXSITXRPQEUGXIVGHFITXYFSSFI*CXC*XSCWWFTIXSOQXCXYQTCXYIESFCX*FXCKVQFXVFUQTPUFXQXKI*UCXTIEUVCXYIYYCXTQ*XWCUUFTIXLQFXVQWFXDCSQWWIXC*FXC*XDI**QXKI*IXEQWYVQXCSRPFEUCTLIXLC*X*CUIXWCTSFTIXUPUUQX*QXEUQ**QXJFCXLQX*C*UVIXYI*IXKQLQCX*CXTIUUQXQX*XTIEUVIXUCTUIXACEEIXSOQXTITXEPVJQCXDPIVXLQ*XWCVFTXEPI*IXSFTRPQXKI*UQXVCSSQEIXQXUCTUIXSCEEIX*IX*PWQXQVZXLFXEIUUIXLZX*ZX*PTZXYIFXSOQXTUVZUFXQVZKZWXTQX*Z*UIXYZEEIRPZTLIXTZYYZVKQXPTZXWITUZJTZXAVPTZXYQVX*ZXLFEUZTHZXQXYZVKQWFXZ*UZXUZTUIXRPZTUIXKQLPUZXTITXZKQZXZ*SPTZXTIFXSFXZ**QJVNWWIXQXUIEUIXUIVTIXFTXYFNTUIXSOQXLQX*NXTIKNXUQVVNXPTXUPVAIXTNSRPQXQXYQVSIEEQXLQ*X*QJTIXF*XYVFWIXSNTUIXUVQXKI*UQXF*XDQXJFVBVXSITXUPUUQX*BSRPQXBX*BXRPBVUBX*QKBVX*BXYIYYBXFTXEPEIXQX*BXYVIVBXFVQXFTXJFPXSIWB*UVPFXYFBSRPQFTDFTXSOQX*XWBVXDPXEIYVBXTIFXVFSOFPEIXX*BXYBVI*BXFTXSILFSQXQXQRPBUIV\n"
     ]
    }
   ],
   "source": [
    "cipher_text = ''\n",
    "for line in lines:\n",
    "    if len(line) > 1:\n",
    "        cipher_text += line.strip()\n",
    "print(cipher_text)"
   ]
  },
  {
   "cell_type": "markdown",
   "metadata": {},
   "source": [
    "Let's count the letters."
   ]
  },
  {
   "cell_type": "code",
   "execution_count": 4,
   "metadata": {},
   "outputs": [
    {
     "data": {
      "text/plain": [
       "[('X', 207),\n",
       " ('Q', 103),\n",
       " ('I', 89),\n",
       " ('F', 79),\n",
       " ('T', 72),\n",
       " ('U', 70),\n",
       " ('*', 62),\n",
       " ('V', 56),\n",
       " ('E', 42),\n",
       " ('S', 42),\n",
       " ('P', 35),\n",
       " ('Y', 30),\n",
       " ('C', 30),\n",
       " ('Z', 30),\n",
       " ('W', 26),\n",
       " ('L', 22),\n",
       " ('K', 19),\n",
       " ('B', 19),\n",
       " ('J', 16),\n",
       " ('G', 14),\n",
       " ('M', 13),\n",
       " ('R', 11),\n",
       " ('D', 10),\n",
       " ('O', 8),\n",
       " ('N', 7),\n",
       " ('H', 6),\n",
       " ('A', 4)]"
      ]
     },
     "execution_count": 4,
     "metadata": {},
     "output_type": "execute_result"
    }
   ],
   "source": [
    "letter_count = {}\n",
    "for letter in cipher_text:\n",
    "    if letter not in letter_count:\n",
    "        letter_count[letter] = 0\n",
    "\n",
    "    letter_count[letter] += 1\n",
    "    \n",
    "sorted_letter_count = sorted(letter_count.items(), key=operator.itemgetter(1))\n",
    "sorted_letter_count.reverse()\n",
    "sorted_letter_count"
   ]
  },
  {
   "cell_type": "markdown",
   "metadata": {},
   "source": [
    "We have 27 letters, so in principle at least one of them is a homophone."
   ]
  },
  {
   "cell_type": "code",
   "execution_count": 5,
   "metadata": {},
   "outputs": [
    {
     "data": {
      "text/plain": [
       "'XQIFTU*VESPCZYWLBKJGMRDONHA'"
      ]
     },
     "execution_count": 5,
     "metadata": {},
     "output_type": "execute_result"
    }
   ],
   "source": [
    "cipher_alphabet = 'XQIFTU*VESPCZYWLBKJGMRDONHA'\n",
    "cipher_alphabet"
   ]
  },
  {
   "cell_type": "markdown",
   "metadata": {},
   "source": [
    "Count the occorrences of double letters:"
   ]
  },
  {
   "cell_type": "code",
   "execution_count": 6,
   "metadata": {},
   "outputs": [
    {
     "data": {
      "text/plain": [
       "[('E', 5),\n",
       " ('U', 5),\n",
       " ('S', 4),\n",
       " ('W', 3),\n",
       " ('Y', 3),\n",
       " ('*', 3),\n",
       " ('X', 1),\n",
       " ('V', 1)]"
      ]
     },
     "execution_count": 6,
     "metadata": {},
     "output_type": "execute_result"
    }
   ],
   "source": [
    "doubleletter_count = {}\n",
    "for i, letter in enumerate(cipher_text[1:]):\n",
    "    previous_letter = cipher_text[i]\n",
    "    if previous_letter == letter:\n",
    "        if letter not in doubleletter_count:\n",
    "            doubleletter_count[letter] = 0\n",
    "\n",
    "        doubleletter_count[letter] += 1\n",
    "    \n",
    "sorted_doubleletter_count = sorted(doubleletter_count.items(), key=operator.itemgetter(1))\n",
    "sorted_doubleletter_count.reverse()\n",
    "sorted_doubleletter_count"
   ]
  },
  {
   "cell_type": "markdown",
   "metadata": {},
   "source": [
    "In the english alphabet, only a few letters can be doubled, and some are very rare. The most common are `LL`, `SS`, `EE` , `OO`, `TT`, `FF` and `PP` in order.\n",
    "    \n",
    "Source: https://blogs.sas.com/content/iml/2014/10/03/double-letter-bigrams.html"
   ]
  },
  {
   "cell_type": "code",
   "execution_count": 7,
   "metadata": {},
   "outputs": [],
   "source": [
    "def decipher(text, key):\n",
    "    mapping = {cipher_letter: real_letter for (cipher_letter, real_letter) in zip(cipher_alphabet, key)}\n",
    "    real_text = ''\n",
    "    for cipher_letter in text:\n",
    "        real_letter = mapping[cipher_letter] if cipher_letter in mapping else cipher_letter\n",
    "        real_text += real_letter\n",
    "    return real_text"
   ]
  },
  {
   "cell_type": "markdown",
   "metadata": {},
   "source": [
    "After several failed attempts, I assumed to most common letter is actually a space character. A good evidence is that its frequency is quite high, although we can't directly assume that, since the homophones can distort the frequencies."
   ]
  },
  {
   "cell_type": "code",
   "execution_count": 8,
   "metadata": {},
   "outputs": [
    {
     "name": "stdout",
     "output_type": "stream",
     "text": [
      "o ___s_ __ll_ the _e_ te_so _____ _e_____ l_ese ____s_ _ _ott__e_se _ __els_ s__so __tt_o__ _______ _e _ols__ le_l_ the _e_ _____e_se _o_ _o____se _e___ _el_e__e___ ___es_o __ lo_ _e_ _o__o le___ _e_se to_l__e__se __ _ols__ le_e___ __s_ _o_ _olse _ ___e_ to_e ___s_ __ _e_ le____ ___s_se e t__olte___ __ __e_ to______ _et_o l_ ___s_ to_ __els_ o____o_ __tt_o__ __ t_____o the _ _e__ _olt__ __ ___e_ __se__s_ e _o_s_ _ols__ _o___ _e_ __ss__o _e_ _e__ __te__o ___ __ _o__e _o_o le___e _t___ls___o ___ __so ___t__o s_sse _e lse__e ___ _e ___s_o _o_o _e_e_ __ _osse e _ _ols_o s__so __llo the _o_ l___e_ __o_ _e_ _____ l_o_o t____e _o_se __ttelo e s__so t_llo _o ___e e_f __ losso _f _f ___f _o_ the _s_fs_ e_f_f_ _e _f_so _fllo__f__o _f__f__e __f _o_sf__f ____f _e_ _f __lsf__f e _f__e__ f_sf sf_so __f_so _e__sf _o_ f_ef f_t__f _o_ t_ f__e_____o e solso so__o __ ____so the _e __ _o__ se___ __ s___o __t__e e _e_tolle _e_ _e__o __ ____o t__so s_e _o_se __ _e _____ to_ s_sse __t__e _ __ ____s_ _e___ __ _o___ __ l_lo e __ __o__ __e __ ___ to___s___ ___t__e_____ the _ ___ __ lo___ _o_ __th__lo  __ ___o__ __ to__te e e___so_\n",
      "\n",
      "o DVMsF LFllF the YeV teTso WF*FM YeVFJ*F lFese JFPTsF M *ottFLeTse M RPelsM sMTso YFttFo*M KFJF*FM Le TolsVF leTlF the Le* VFWMTeTse ToT KoJ*FMse TeJMV *elYeVFeTHM LFVesVo M* lo* Le* WoTLo leTHG JeTse toTlFLeVGse *G KolsVG leWeTHG DGsF ToT Dolse G KFKeV toWe AVPsF WG YeV leJPFV KFVsPse e tGTolteTHG *F WFeF toWYGJTF DetFo lF GJPsF toT RPelsG oVGHFoT YFttFo*C C* tCWWFTo the C YeTC YoltFC *F CKVeF VFseTPsF e Ko*sC TolsVC YoYYC Te* WCssFTo LeF VeWF DCteWWo C*F C* Do**e Ko*o leWYVe CtRPFlsCTLo LC* *Cso WCTtFTo sPsse *e lse**e JFC Le *C*sVo Yo*o KeLeC *C Tosse e * TolsVo sCTso ACllo the ToT lPVJeC DPoV Le* WCVFT lPo*o tFTRPe Ko*se VCttelo e sCTso tCllo *o *PWe eVf LF losso Lf *f *PTf YoF the TsVfsF eVfKfW Te *f*so YflloRPfTLo TfYYfVKe PTf WoTsfJTf AVPTf YeV *f LFlsfTHf e YfVKeWF f*sf sfTso RPfTso KeLPsf ToT fKef f*tPTf ToF tF f**eJVNWWo e solso soVTo FT YFNTso the Le *N ToKN seVVN PT sPVAo TNtRPe e YeVtolle Le* *eJTo F* YVFWo tNTso sVe Ko*se F* De JFVBV toT sPsse *BtRPe B *B RPBVsB *eKBV *B YoYYB FT lPlo e *B YVoVB FVe FT JFP toWB*sVPF YFBtRPeFTDFT the * WBV DP loYVB ToF VFthFPlo  *B YBVo*B FT toLFte e eRPBsoV\n"
     ]
    }
   ],
   "source": [
    "# English frequency         ' eotahinsrdlcumfpgwbyvkxjqz'\n",
    "# Cipher frequency:         'XQIFTU*VESPCZYWLBKJGMRDONHA'\n",
    "english_letter_frequency1 = ' eo__s__lt__f__________h___'\n",
    "english_letter_frequency2 = ' eoFTs*VltPCfYWLBKJGMRDhNHA'\n",
    "print(decipher(cipher_text, english_letter_frequency1))\n",
    "print()\n",
    "print(decipher(cipher_text, english_letter_frequency2))"
   ]
  },
  {
   "cell_type": "markdown",
   "metadata": {},
   "source": [
    "Nevertheless, after trying to substitute some letters, nothing makes sense. Plus, there are several 7 one-letters words. English only has the words `a` and `I` containing one letter. This cannot be English."
   ]
  },
  {
   "cell_type": "code",
   "execution_count": 9,
   "metadata": {},
   "outputs": [
    {
     "data": {
      "text/plain": [
       "Counter({'*': 2, 'B': 1, 'C': 1, 'G': 1, 'I': 1, 'M': 2, 'Q': 9})"
      ]
     },
     "execution_count": 9,
     "metadata": {},
     "output_type": "execute_result"
    }
   ],
   "source": [
    "whatever_language = ' QIFTU*VESPCZYWLBKJGMRDONHA'\n",
    "splitted = decipher(cipher_text, whatever_language)\n",
    "Counter([w for w in splitted.split(' ') if len(w) == 1])"
   ]
  },
  {
   "cell_type": "markdown",
   "metadata": {},
   "source": [
    "7 one-letter words.\n",
    "Assuming all most be vogals, although `u` looks hard to be a word.\n",
    "\n",
    "* Portugues: a, e, o\n",
    "* Spanish: a, e, o, y,\n",
    "* Italian: a, e, o, i\n",
    "\n",
    "More one letter words: https://jalu.ch/languages/one_letter_words.php\n",
    "\n",
    "Guesses\n",
    "* Q, also the most common letter. Guess: e\n",
    "* I, second most common letter -> Guess: a\n",
    "* `*`, also appears as a double letter -> Guess: o\n",
    "* M -> ?\n",
    "* B -> ?\n",
    "* C -> ?\n",
    "* G -> ?"
   ]
  },
  {
   "cell_type": "code",
   "execution_count": 10,
   "metadata": {},
   "outputs": [
    {
     "name": "stdout",
     "output_type": "stream",
     "text": [
      "a _____ _____ __e _e_ _e__a __o__ _e___o_ __e_e ______ _ oa____e__e _ __e___ ____a _____ao_ ____o__ _e _a____ _e___ __e _eo _____e__e _a_ _a_o___e _e___ oe__e__e___ ___e__a _o _ao _eo _a__a _e___ _e__e _a____e___e o_ _a____ _e_e___ ____ _a_ _a__e _ ___e_ _a_e _____ __ _e_ _e____ ______e e ___a__e___ o_ __e_ _a______ _e__a __ _____ _a_ __e___ a____a_ _____ao_ _o ______a __e _ _e__ _a____ o_ ___e_ ___e____ e _ao__ _a____ _a___ _eo ______a _e_ _e__ ___e__a _o_ _o _aooe _aoa _e___e __________a __o o__a ______a ____e oe __eooe ___ _e o_o__a _aoa _e_e_ o_ _a__e e o _a___a ____a ____a __e _a_ ____e_ __a_ _eo _____ __aoa _____e _ao_e ____e_a e ____a ____a oa o__e e__ __ _a__a __ o_ o___ _a_ __e ______ e_____ _e o_o_a ____a_____a _______e ___ _a______ _____ _e_ o_ ________ e ____e__ _o__ ____a _____a _e____ _a_ __e_ _o____ _a_ __ _ooe_____a e _a__a _a__a __ _____a __e _e o_ _a__ _e___ __ ____a _____e e _e__a__e _eo oe__a _o ____a ____a __e _ao_e _o _e _____ _a_ ____e o____e _ o_ ______ oe___ o_ _a___ __ ___a e o_ __a__ __e __ ___ _a__o____ ______e_____ __e o ___ __ _a___ _a_ _______a  o_ ___ao_ __ _a___e e e____a_\n",
      "\n",
      "a DVMUF LFEEF SOe YeV SeTUa WFoFM YeVFJoF EFeUe JFPTUF M oaSSFLeTUe M RPeEUM UMTUa YFSSFaoM KFJFoFM Le TaEUVF EeTEF SOe Leo VFWMTeTUe TaT KaJoFMUe TeJMV oeEYeVFeTHM LFVeUVa Mo Eao Leo WaTLa EeTHG JeTUe SaTEFLeVGUe oG KaEUVG EeWeTHG DGUF TaT DaEUe G KFKeV SaWe AVPUF WG YeV EeJPFV KFVUPUe e SGTaESeTHG oF WFeF SaWYGJTF DeSFa EF GJPUF SaT RPeEUG aVGHFaT YFSSFaoC Co SCWWFTa SOe C YeTC YaESFC oF CKVeF VFUeTPUF e KaoUC TaEUVC YaYYC Teo WCUUFTa LeF VeWF DCSeWWa CoF Co Daooe Kaoa EeWYVe CSRPFEUCTLa LCo oCUa WCTSFTa UPUUe oe EUeooe JFC Le oCoUVa Yaoa KeLeC oC TaUUe e o TaEUVa UCTUa ACEEa SOe TaT EPVJeC DPaV Leo WCVFT EPaoa SFTRPe KaoUe VCSSeEa e UCTUa SCEEa oa oPWe eVZ LF EaUUa LZ oZ oPTZ YaF SOe TUVZUF eVZKZW Te oZoUa YZEEaRPZTLa TZYYZVKe PTZ WaTUZJTZ AVPTZ YeV oZ LFEUZTHZ e YZVKeWF ZoUZ UZTUa RPZTUa KeLPUZ TaT ZKeZ ZoSPTZ TaF SF ZooeJVNWWa e UaEUa UaVTa FT YFNTUa SOe Le oN TaKN UeVVN PT UPVAa TNSRPe e YeVSaEEe Leo oeJTa Fo YVFWa SNTUa UVe KaoUe Fo De JFVBV SaT UPUUe oBSRPe B oB RPBVUB oeKBV oB YaYYB FT EPEa e oB YVaVB FVe FT JFP SaWBoUVPF YFBSRPeFTDFT SOe o WBV DP EaYVB TaF VFSOFPEa  oB YBVaoB FT SaLFSe e eRPBUaV\n"
     ]
    }
   ],
   "source": [
    "# Cipher frequency:  'XQIFTU*VESPCZYWLBKJGMRDONHA'\n",
    "whatever_language1 = ' ea___o____________________'\n",
    "whatever_language2 = ' eaFTUoVESPCZYWLBKJGMRDONHA'\n",
    "print(decipher(cipher_text, whatever_language1))\n",
    "print()\n",
    "print(decipher(cipher_text, whatever_language2))"
   ]
  },
  {
   "cell_type": "markdown",
   "metadata": {},
   "source": [
    "Sequences like `eooe` and `aooe` look bad. Assuming `A -> e` is right, drop `I -> a` and `* -> o`. Test `I -> o`."
   ]
  },
  {
   "cell_type": "code",
   "execution_count": 11,
   "metadata": {},
   "outputs": [
    {
     "name": "stdout",
     "output_type": "stream",
     "text": [
      "o _____ _____ __e _e_ _e__o _____ _e_____ __e_e ______ _ _o____e__e _ __e___ ____o _____o__ _______ _e _o____ _e___ __e _e_ _____e__e _o_ _o_____e _e___ _e__e__e___ ___e__o __ _o_ _e_ _o__o _e___ _e__e _o____e___e __ _o____ _e_e___ ____ _o_ _o__e _ ___e_ _o_e _____ __ _e_ _e____ ______e e ___o__e___ __ __e_ _o______ _e__o __ _____ _o_ __e___ o____o_ _____o__ __ ______o __e _ _e__ _o____ __ ___e_ ___e____ e _o___ _o____ _o___ _e_ ______o _e_ _e__ ___e__o ___ __ _o__e _o_o _e___e __________o ___ ___o ______o ____e _e __e__e ___ _e _____o _o_o _e_e_ __ _o__e e _ _o___o ____o ____o __e _o_ ____e_ __o_ _e_ _____ __o_o _____e _o__e ____e_o e ____o ____o _o ___e e__ __ _o__o __ __ ____ _o_ __e ______ e_____ _e ____o ____o_____o _______e ___ _o______ _____ _e_ __ ________ e ____e__ ____ ____o _____o _e____ _o_ __e_ ______ _o_ __ ___e_____o e _o__o _o__o __ _____o __e _e __ _o__ _e___ __ ____o _____e e _e__o__e _e_ _e__o __ ____o ____o __e _o__e __ _e _____ _o_ ____e _____e _ __ ______ _e___ __ _o___ __ ___o e __ __o__ __e __ ___ _o_______ ______e_____ __e _ ___ __ _o___ _o_ _______o  __ ___o__ __ _o___e e e____o_\n",
      "\n",
      "o DVMUF LFEEF SOe YeV SeTUo WF*FM YeVFJ*F EFeUe JFPTUF M *oSSFLeTUe M RPeEUM UMTUo YFSSFo*M KFJF*FM Le ToEUVF EeTEF SOe Le* VFWMTeTUe ToT KoJ*FMUe TeJMV *eEYeVFeTHM LFVeUVo M* Eo* Le* WoTLo EeTHG JeTUe SoTEFLeVGUe *G KoEUVG EeWeTHG DGUF ToT DoEUe G KFKeV SoWe AVPUF WG YeV EeJPFV KFVUPUe e SGToESeTHG *F WFeF SoWYGJTF DeSFo EF GJPUF SoT RPeEUG oVGHFoT YFSSFo*C C* SCWWFTo SOe C YeTC YoESFC *F CKVeF VFUeTPUF e Ko*UC ToEUVC YoYYC Te* WCUUFTo LeF VeWF DCSeWWo C*F C* Do**e Ko*o EeWYVe CSRPFEUCTLo LC* *CUo WCTSFTo UPUUe *e EUe**e JFC Le *C*UVo Yo*o KeLeC *C ToUUe e * ToEUVo UCTUo ACEEo SOe ToT EPVJeC DPoV Le* WCVFT EPo*o SFTRPe Ko*Ue VCSSeEo e UCTUo SCEEo *o *PWe eVZ LF EoUUo LZ *Z *PTZ YoF SOe TUVZUF eVZKZW Te *Z*Uo YZEEoRPZTLo TZYYZVKe PTZ WoTUZJTZ AVPTZ YeV *Z LFEUZTHZ e YZVKeWF Z*UZ UZTUo RPZTUo KeLPUZ ToT ZKeZ Z*SPTZ ToF SF Z**eJVNWWo e UoEUo UoVTo FT YFNTUo SOe Le *N ToKN UeVVN PT UPVAo TNSRPe e YeVSoEEe Le* *eJTo F* YVFWo SNTUo UVe Ko*Ue F* De JFVBV SoT UPUUe *BSRPe B *B RPBVUB *eKBV *B YoYYB FT EPEo e *B YVoVB FVe FT JFP SoWB*UVPF YFBSRPeFTDFT SOe * WBV DP EoYVB ToF VFSOFPEo  *B YBVo*B FT SoLFSe e eRPBUoV\n"
     ]
    }
   ],
   "source": [
    "# Cipher frequency:  'XQIFTU*VESPCZYWLBKJGMRDONHA'\n",
    "whatever_language1 = ' eo________________________'\n",
    "whatever_language2 = ' eoFTU*VESPCZYWLBKJGMRDONHA'\n",
    "print(decipher(cipher_text, whatever_language1))\n",
    "print()\n",
    "print(decipher(cipher_text, whatever_language2))"
   ]
  },
  {
   "cell_type": "markdown",
   "metadata": {},
   "source": [
    "Looks better. Many three letter words `SOe`. Perhaps `que`?"
   ]
  },
  {
   "cell_type": "code",
   "execution_count": 12,
   "metadata": {},
   "outputs": [
    {
     "name": "stdout",
     "output_type": "stream",
     "text": [
      "o _____ _____ que _e_ qe__o _____ _e_____ __e_e ______ _ _oqq__e__e _ __e___ ____o __qq_o__ _______ _e _o____ _e___ que _e_ _____e__e _o_ _o_____e _e___ _e__e__e___ ___e__o __ _o_ _e_ _o__o _e___ _e__e qo____e___e __ _o____ _e_e___ ____ _o_ _o__e _ ___e_ qo_e _____ __ _e_ _e____ ______e e q__o_qe___ __ __e_ qo______ _eq_o __ _____ qo_ __e___ o____o_ __qq_o__ __ q_____o que _ _e__ _o_q__ __ ___e_ ___e____ e _o___ _o____ _o___ _e_ ______o _e_ _e__ __qe__o ___ __ _o__e _o_o _e___e _q________o ___ ___o ___q__o ____e _e __e__e ___ _e _____o _o_o _e_e_ __ _o__e e _ _o___o ____o ____o que _o_ ____e_ __o_ _e_ _____ __o_o q____e _o__e __qqe_o e ____o q___o _o ___e e__ __ _o__o __ __ ____ _o_ que ______ e_____ _e ____o ____o_____o _______e ___ _o______ _____ _e_ __ ________ e ____e__ ____ ____o _____o _e____ _o_ __e_ __q___ _o_ q_ ___e_____o e _o__o _o__o __ _____o que _e __ _o__ _e___ __ ____o __q__e e _e_qo__e _e_ _e__o __ ____o q___o __e _o__e __ _e _____ qo_ ____e __q__e _ __ ______ _e___ __ _o___ __ ___o e __ __o__ __e __ ___ qo_______ ___q__e_____ que _ ___ __ _o___ _o_ __qu___o  __ ___o__ __ qo__qe e e____o_\n",
      "\n",
      "o DVMUF LFEEF que YeV qeTUo WF*FM YeVFJ*F EFeUe JFPTUF M *oqqFLeTUe M RPeEUM UMTUo YFqqFo*M KFJF*FM Le ToEUVF EeTEF que Le* VFWMTeTUe ToT KoJ*FMUe TeJMV *eEYeVFeTHM LFVeUVo M* Eo* Le* WoTLo EeTHG JeTUe qoTEFLeVGUe *G KoEUVG EeWeTHG DGUF ToT DoEUe G KFKeV qoWe AVPUF WG YeV EeJPFV KFVUPUe e qGToEqeTHG *F WFeF qoWYGJTF DeqFo EF GJPUF qoT RPeEUG oVGHFoT YFqqFo*C C* qCWWFTo que C YeTC YoEqFC *F CKVeF VFUeTPUF e Ko*UC ToEUVC YoYYC Te* WCUUFTo LeF VeWF DCqeWWo C*F C* Do**e Ko*o EeWYVe CqRPFEUCTLo LC* *CUo WCTqFTo UPUUe *e EUe**e JFC Le *C*UVo Yo*o KeLeC *C ToUUe e * ToEUVo UCTUo ACEEo que ToT EPVJeC DPoV Le* WCVFT EPo*o qFTRPe Ko*Ue VCqqeEo e UCTUo qCEEo *o *PWe eVZ LF EoUUo LZ *Z *PTZ YoF que TUVZUF eVZKZW Te *Z*Uo YZEEoRPZTLo TZYYZVKe PTZ WoTUZJTZ AVPTZ YeV *Z LFEUZTHZ e YZVKeWF Z*UZ UZTUo RPZTUo KeLPUZ ToT ZKeZ Z*qPTZ ToF qF Z**eJVNWWo e UoEUo UoVTo FT YFNTUo que Le *N ToKN UeVVN PT UPVAo TNqRPe e YeVqoEEe Le* *eJTo F* YVFWo qNTUo UVe Ko*Ue F* De JFVBV qoT UPUUe *BqRPe B *B RPBVUB *eKBV *B YoYYB FT EPEo e *B YVoVB FVe FT JFP qoWB*UVPF YFBqRPeFTDFT que * WBV DP EoYVB ToF VFquFPEo  *B YBVo*B FT qoLFqe e eRPBUoV\n"
     ]
    }
   ],
   "source": [
    "# Cipher frequency:  'XQIFTU*VESPCZYWLBKJGMRDONHA'\n",
    "whatever_language1 = ' eo______q_____________u___'\n",
    "whatever_language2 = ' eoFTU*VEqPCZYWLBKJGMRDuNHA'\n",
    "print(decipher(cipher_text, whatever_language1))\n",
    "print()\n",
    "print(decipher(cipher_text, whatever_language2))"
   ]
  },
  {
   "cell_type": "markdown",
   "metadata": {},
   "source": [
    "`oqq` is bad. Italian `SOe -> che`? It has plently of `cc`."
   ]
  },
  {
   "cell_type": "code",
   "execution_count": 13,
   "metadata": {},
   "outputs": [
    {
     "name": "stdout",
     "output_type": "stream",
     "text": [
      "o _____ _____ che _e_ ce__o _____ _e_____ __e_e ______ _ _occ__e__e _ __e___ ____o __cc_o__ _______ _e _o____ _e___ che _e_ _____e__e _o_ _o_____e _e___ _e__e__e___ ___e__o __ _o_ _e_ _o__o _e___ _e__e co____e___e __ _o____ _e_e___ ____ _o_ _o__e _ ___e_ co_e _____ __ _e_ _e____ ______e e c__o_ce___ __ __e_ co______ _ec_o __ _____ co_ __e___ o____o_ __cc_o__ __ c_____o che _ _e__ _o_c__ __ ___e_ ___e____ e _o___ _o____ _o___ _e_ ______o _e_ _e__ __ce__o ___ __ _o__e _o_o _e___e _c________o ___ ___o ___c__o ____e _e __e__e ___ _e _____o _o_o _e_e_ __ _o__e e _ _o___o ____o ____o che _o_ ____e_ __o_ _e_ _____ __o_o c____e _o__e __cce_o e ____o c___o _o ___e e__ __ _o__o __ __ ____ _o_ che ______ e_____ _e ____o ____o_____o _______e ___ _o______ _____ _e_ __ ________ e ____e__ ____ ____o _____o _e____ _o_ __e_ __c___ _o_ c_ ___e_____o e _o__o _o__o __ _____o che _e __ _o__ _e___ __ ____o __c__e e _e_co__e _e_ _e__o __ ____o c___o __e _o__e __ _e _____ co_ ____e __c__e _ __ ______ _e___ __ _o___ __ ___o e __ __o__ __e __ ___ co_______ ___c__e_____ che _ ___ __ _o___ _o_ __ch___o  __ ___o__ __ co__ce e e____o_\n",
      "\n",
      "o DVMUF LFEEF che YeV ceTUo WF*FM YeVFJ*F EFeUe JFPTUF M *occFLeTUe M RPeEUM UMTUo YFccFo*M KFJF*FM Le ToEUVF EeTEF che Le* VFWMTeTUe ToT KoJ*FMUe TeJMV *eEYeVFeTHM LFVeUVo M* Eo* Le* WoTLo EeTHG JeTUe coTEFLeVGUe *G KoEUVG EeWeTHG DGUF ToT DoEUe G KFKeV coWe AVPUF WG YeV EeJPFV KFVUPUe e cGToEceTHG *F WFeF coWYGJTF DecFo EF GJPUF coT RPeEUG oVGHFoT YFccFo*C C* cCWWFTo che C YeTC YoEcFC *F CKVeF VFUeTPUF e Ko*UC ToEUVC YoYYC Te* WCUUFTo LeF VeWF DCceWWo C*F C* Do**e Ko*o EeWYVe CcRPFEUCTLo LC* *CUo WCTcFTo UPUUe *e EUe**e JFC Le *C*UVo Yo*o KeLeC *C ToUUe e * ToEUVo UCTUo ACEEo che ToT EPVJeC DPoV Le* WCVFT EPo*o cFTRPe Ko*Ue VCcceEo e UCTUo cCEEo *o *PWe eVZ LF EoUUo LZ *Z *PTZ YoF che TUVZUF eVZKZW Te *Z*Uo YZEEoRPZTLo TZYYZVKe PTZ WoTUZJTZ AVPTZ YeV *Z LFEUZTHZ e YZVKeWF Z*UZ UZTUo RPZTUo KeLPUZ ToT ZKeZ Z*cPTZ ToF cF Z**eJVNWWo e UoEUo UoVTo FT YFNTUo che Le *N ToKN UeVVN PT UPVAo TNcRPe e YeVcoEEe Le* *eJTo F* YVFWo cNTUo UVe Ko*Ue F* De JFVBV coT UPUUe *BcRPe B *B RPBVUB *eKBV *B YoYYB FT EPEo e *B YVoVB FVe FT JFP coWB*UVPF YFBcRPeFTDFT che * WBV DP EoYVB ToF VFchFPEo  *B YBVo*B FT coLFce e eRPBUoV\n"
     ]
    }
   ],
   "source": [
    "# Cipher frequency:  'XQIFTU*VESPCZYWLBKJGMRDONHA'\n",
    "whatever_language1 = ' eo______c_____________h___'\n",
    "whatever_language2 = ' eoFTU*VEcPCZYWLBKJGMRDhNHA'\n",
    "print(decipher(cipher_text, whatever_language1))\n",
    "print()\n",
    "print(decipher(cipher_text, whatever_language2))"
   ]
  },
  {
   "cell_type": "markdown",
   "metadata": {},
   "source": [
    "* Let's fill on the other one-letter words with some guesses. What are `M`, `B`, `C`, `G`, `*`?\n",
    "* `C` is the most common among them, guess `a`.\n",
    "* `*` appears both in `_*` and `*_`, and by itself. And as double letter `**`. `* -> l`?\n",
    "* `Lel -> del`?\n",
    "* `YeV -> per`?"
   ]
  },
  {
   "cell_type": "code",
   "execution_count": 14,
   "metadata": {},
   "outputs": [
    {
     "name": "stdout",
     "output_type": "stream",
     "text": [
      "o _r___ d____ che per ce__o __l__ per__l_ __e_e ______ _ locc_de__e _ __e___ ____o p_cc_ol_ o___l__ de _o__r_ _e___ che del r____e__e _o_ oo_l___e _e__r le_per_e___ d_re_ro _l _ol del _o_do _e___ _e__e co___der__e l_ oo__r_ _e_e___ ____ _o_ _o__e _ o_oer co_e _r___ __ per _e___r o_r___e e c__o_ce___ l_ __e_ co_p____ _ec_o __ _____ co_ __e___ or___o_ p_cc_ola al ca____o che a pe_a po_c_a l_ aore_ r__e____ e ool_a _o__ra poppa _el _a____o de_ re__ _ace__o al_ al _olle oolo _e_pre ac_____a_do dal la_o _a_c__o ____e le __elle __a de lal_ro polo oedea la _o__e e l _o__ro _a__o _a__o che _o_ __r_ea __or del _ar__ __olo c____e ool_e racce_o e _a__o ca__o lo l__e erZ d_ _o__o dZ lZ l__Z po_ che __rZ__ erZoZ_ _e lZl_o pZ__o__Z_do _ZppZroe __Z _o__Z__Z _r__Z per lZ d___Z__Z e pZroe__ Zl_Z _Z__o __Z__o oed__Z _o_ ZoeZ Zlc__Z _o_ c_ Zlle_r___o e _o__o _or_o __ p____o che de l_ _oo_ _err_ __ __r_o __c__e e perco__e del le__o _l pr__o c___o _re ool_e _l _e __r_r co_ ____e l_c__e _ l_ ___r__ leo_r l_ popp_ __ ___o e l_ pror_ _re __ ___ co__l_r__ p__c__e_____ che l __r __ _opr_ _o_ r_ch___o  l_ p_rol_ __ cod_ce e e____or\n",
      "\n",
      "o DrMUF dFEEF cOe per ceTUo WFlFM perFJlF EFeUe JFPTUF M loccFdeTUe M RPeEUM UMTUo pFccFolM KFJFlFM de ToEUrF EeTEF cOe del rFWMTeTUe ToT KoJlFMUe TeJMr leEperFeTHM dFreUro Ml Eol del WoTdo EeTHG JeTUe coTEFderGUe lG KoEUrG EeWeTHG DGUF ToT DoEUe G KFKer coWe ArPUF WG per EeJPFr KFrUPUe e cGToEceTHG lF WFeF coWpGJTF DecFo EF GJPUF coT RPeEUG orGHFoT pFccFolC Cl cCWWFTo cOe C peTC poEcFC lF CKreF rFUeTPUF e KolUC ToEUrC poppC Tel WCUUFTo deF reWF DCceWWo ClF Cl Dolle Kolo EeWpre CcRPFEUCTdo dCl lCUo WCTcFTo UPUUe le EUelle JFC de lClUro polo KedeC lC ToUUe e l ToEUro UCTUo ACEEo cOe ToT EPrJeC DPor del WCrFT EPolo cFTRPe KolUe rCcceEo e UCTUo cCEEo lo lPWe erZ dF EoUUo dZ lZ lPTZ poF cOe TUrZUF erZKZW Te lZlUo pZEEoRPZTdo TZppZrKe PTZ WoTUZJTZ ArPTZ per lZ dFEUZTHZ e pZrKeWF ZlUZ UZTUo RPZTUo KedPUZ ToT ZKeZ ZlcPTZ ToF cF ZlleJrNWWo e UoEUo UorTo FT pFNTUo cOe de lN ToKN UerrN PT UPrAo TNcRPe e percoEEe del leJTo Fl prFWo cNTUo Ure KolUe Fl De JFrBr coT UPUUe lBcRPe B lB RPBrUB leKBr lB poppB FT EPEo e lB prorB Fre FT JFP coWBlUrPF pFBcRPeFTDFT cOe l WBr DP EoprB ToF rFcOFPEo  lB pBrolB FT codFce e eRPBUor\n"
     ]
    }
   ],
   "source": [
    "# Cipher frequency:  'XQIFTU*VESPCZYWLBKJGMRDONHA'\n",
    "whatever_language1 = ' eo___lr_c_aZp_d_o_____h___'\n",
    "whatever_language2 = ' eoFTUlrEcPCZpWdBKJGMRDONHA'\n",
    "print(decipher(cipher_text, whatever_language1))\n",
    "print()\n",
    "print(decipher(cipher_text, whatever_language2))"
   ]
  },
  {
   "cell_type": "markdown",
   "metadata": {},
   "source": [
    "Next guesses in order:\n",
    "* `percoEEe -> percosse`\n",
    "* `deF -> dei`\n",
    "* `richiPso -> richiuso`\n",
    "* `peTa -> pena`\n",
    "* `M -> a`\n",
    "* `nosUri -> nostri`\n",
    "* `considerGte -> considerate`\n",
    "* `caWWino -> cammino`\n",
    "* `compaJni -> compagni`\n",
    "* `KiKer -> viver`\n",
    "* `erZ -> era`\n",
    "* `Ruesta -> cuesta`\n",
    "* `allegrNmmo -> allegrammo`\n",
    "* `canoscenHa -> canoscenza`"
   ]
  },
  {
   "cell_type": "code",
   "execution_count": 15,
   "metadata": {},
   "outputs": [
    {
     "name": "stdout",
     "output_type": "stream",
     "text": [
      "o frati dissi che per cento milia perigli siete giunti a loccidente a cuesta tanto picciola vigilia de nostri sensi che del rimanente non vogliate negar lesperienza diretro al sol del mondo senza gente considerate la vostra semenza fati non foste a viver come bruti ma per seguir virtute e canoscenza li miei compagni fecio si aguti con cuesta orazion picciola al cammino che a pena poscia li avrei ritenuti e volta nostra poppa nel mattino dei remi facemmo ali al folle volo sempre accuistando dal lato mancino tutte le stelle gia de laltro polo vedea la notte e l nostro tanto basso che non surgea fuor del marin suolo cincue volte racceso e tanto casso lo lume era di sotto da la luna poi che ntrati eravam ne lalto passocuando napparve una montagna bruna per la distanza e parvemi alta tanto cuanto veduta non avea alcuna noi ci allegrammo e tosto torno in pianto che de la nova terra un turbo naccue e percosse del legno il primo canto tre volte il fe girar con tutte laccue a la cuarta levar la poppa in suso e la prora ire in giu comaltrui piaccueinfin che l mar fu sopra noi richiuso  la parola in codice e ecuator\n",
      "\n",
      "o frati dissi che per cento milia perigli siete giunti a loccidente a cuesta tanto picciola vigilia de nostri sensi che del rimanente non vogliate negar lesperienza diretro al sol del mondo senza gente considerate la vostra semenza fati non foste a viver come bruti ma per seguir virtute e canoscenza li miei compagni fecio si aguti con cuesta orazion picciola al cammino che a pena poscia li avrei ritenuti e volta nostra poppa nel mattino dei remi facemmo ali al folle volo sempre accuistando dal lato mancino tutte le stelle gia de laltro polo vedea la notte e l nostro tanto basso che non surgea fuor del marin suolo cincue volte racceso e tanto casso lo lume era di sotto da la luna poi che ntrati eravam ne lalto passocuando napparve una montagna bruna per la distanza e parvemi alta tanto cuanto veduta non avea alcuna noi ci allegrammo e tosto torno in pianto che de la nova terra un turbo naccue e percosse del legno il primo canto tre volte il fe girar con tutte laccue a la cuarta levar la poppa in suso e la prora ire in giu comaltrui piaccueinfin che l mar fu sopra noi richiuso  la parola in codice e ecuator\n"
     ]
    }
   ],
   "source": [
    "# Cipher frequency:  'XQIFTU*VESPCZYWLBKJGMRDONHA'\n",
    "whatever_language1 = ' eointlrscuaapmdavgaacfhazb'\n",
    "whatever_language2 = ' eointlrscuaapmdavgaacfhazb'\n",
    "print(decipher(cipher_text, whatever_language1))\n",
    "print()\n",
    "print(decipher(cipher_text, whatever_language2))"
   ]
  }
 ],
 "metadata": {
  "kernelspec": {
   "display_name": "Python 3",
   "language": "python",
   "name": "python3"
  },
  "language_info": {
   "codemirror_mode": {
    "name": "ipython",
    "version": 3
   },
   "file_extension": ".py",
   "mimetype": "text/x-python",
   "name": "python",
   "nbconvert_exporter": "python",
   "pygments_lexer": "ipython3",
   "version": "3.5.2"
  }
 },
 "nbformat": 4,
 "nbformat_minor": 2
}

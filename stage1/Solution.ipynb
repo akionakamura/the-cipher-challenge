{
 "cells": [
  {
   "cell_type": "markdown",
   "metadata": {},
   "source": [
    "## Stage 1"
   ]
  },
  {
   "cell_type": "code",
   "execution_count": 1,
   "metadata": {},
   "outputs": [],
   "source": [
    "import operator"
   ]
  },
  {
   "cell_type": "code",
   "execution_count": 2,
   "metadata": {},
   "outputs": [],
   "source": [
    "f = open(\"./cipher.txt\")\n",
    "\n",
    "# It is a one line :)\n",
    "cipher_text = f.readlines()[0]"
   ]
  },
  {
   "cell_type": "code",
   "execution_count": 3,
   "metadata": {},
   "outputs": [
    {
     "name": "stdout",
     "output_type": "stream",
     "text": [
      "BT JPX RMLX PCUV AMLX ICVJP IBTWXVR CI M LMT'R PMTN, MTN YVCJX CDXV MWMBTRJ JPX AMTNGXRJBAH UQCT JPX QGMRJXV CI JPX YMGG CI JPX HBTW'R QMGMAX; MTN JPX HBTW RMY JPX QMVJ CI JPX PMTN JPMJ YVCJX. JPXT JPX HBTW'R ACUTJXTMTAX YMR APMTWXN, MTN PBR JPCUWPJR JVCUFGXN PBL, RC JPMJ JPX SCBTJR CI PBR GCBTR YXVX GCCRXN, MTN PBR HTXXR RLCJX CTX MWMBTRJ MTCJPXV. JPX HBTW AVBXN MGCUN JC FVBTW BT JPX MRJVCGCWXVR, JPX APMGNXMTR, MTN JPX RCCJPRMEXVR. MTN JPX HBTW RQMHX, MTN RMBN JC JPX YBRX LXT CI FMFEGCT, YPCRCXDXV RPMGG VXMN JPBR YVBJBTW, MTN RPCY LX JPX BTJXVQVXJMJBCT JPXVXCI, RPMGG FX AGCJPXN YBJP RAMVGXJ, MTN PMDX M APMBT CI WCGN MFCUJ PBR TXAH, MTN RPMGG FX JPX JPBVN VUGXV BT JPX HBTWNCL. JPXT AMLX BT MGG JPX HBTW'R YBRX LXT; FUJ JPXE ACUGN TCJ VXMN JPX YVBJBTW, TCV LMHX HTCYT JC JPX HBTW JPX BTJXVQVXJMJBCT JPXVXCI. JPXT YMR HBTW FXGRPMOOMV WVXMJGE JVCUFGXN, MTN PBR ACUTJXTMTAX YMR APMTWXN BT PBL, MTN PBR GCVNR YXVX MRJCTBRPXN. TCY JPX KUXXT, FE VXMRCT CI JPX YCVNR CI JPX HBTW MTN PBR GCVNR, AMLX BTJC JPX FMTKUXJ PCURX; MTN JPX KUXXT RQMHX MTN RMBN, C HBTW, GBDX ICVXDXV; GXJ TCJ JPE JPCUWPJR JVCUFGX JPXX, TCV GXJ JPE ACUTJXTMTAX FX APMTWXN; JPXVX BR M LMT BT JPE HBTWNCL, BT YPCL BR JPX RQBVBJ CI JPX PCGE WCNR; MTN BT JPX NMER CI JPE IMJPXV GBWPJ MTN UTNXVRJMTNBTW MTN YBRNCL, GBHX JPX YBRNCL CI JPX WCNR, YMR ICUTN BT PBL; YPCL JPX HBTW TXFUAPMNTXOOMV JPE IMJPXV, JPX HBTW, B RME, JPE IMJPXV, LMNX LMRJXV CI JPX LMWBABMTR, MRJVCGCWXVR, APMGNXMTR, MTN RCCJPRMEXVR; ICVMRLUAP MR MT XZAXGGXTJ RQBVBJ, MTN HTCYGXNWX, MTN UTNXVRJMTNBTW, BTJXVQVXJBTW CI NVXMLR, MTN RPCYBTW CI PMVN RXTJXTAXR, MTN NBRRCGDBTW CI NCUFJR, YXVX ICUTN BT JPX RMLX NMTBXG, YPCL JPX HBTW TMLXN FXGJXRPMOOMV; TCY GXJ NMTBXG FX AMGGXN, MTN PX YBGG RPCY JPX BTJXVQVXJMJBCT. JPX IBVRJ ACNXYCVN BR CJPXGGC.\n",
      "\n"
     ]
    }
   ],
   "source": [
    "print(cipher_text)"
   ]
  },
  {
   "cell_type": "code",
   "execution_count": 4,
   "metadata": {},
   "outputs": [
    {
     "data": {
      "text/plain": [
       "[('X', 168),\n",
       " ('T', 131),\n",
       " ('J', 130),\n",
       " ('M', 118),\n",
       " ('P', 112),\n",
       " ('C', 101),\n",
       " ('R', 91),\n",
       " ('B', 89),\n",
       " ('N', 75),\n",
       " ('V', 68),\n",
       " ('G', 53),\n",
       " ('W', 40),\n",
       " ('Y', 32),\n",
       " ('A', 30),\n",
       " ('L', 28),\n",
       " ('I', 28),\n",
       " ('U', 26),\n",
       " ('H', 24),\n",
       " ('F', 18),\n",
       " ('E', 15),\n",
       " ('Q', 12),\n",
       " ('O', 6),\n",
       " ('D', 6),\n",
       " ('K', 3),\n",
       " ('S', 1),\n",
       " ('Z', 1)]"
      ]
     },
     "execution_count": 4,
     "metadata": {},
     "output_type": "execute_result"
    }
   ],
   "source": [
    "letter_count = {}\n",
    "not_letters = {' ', ',', ';', '.', '\\n', \"'\"}\n",
    "for letter in cipher_text:\n",
    "    if letter not in not_letters:\n",
    "        if letter not in letter_count:\n",
    "            letter_count[letter] = 0\n",
    "\n",
    "        letter_count[letter] += 1\n",
    "    \n",
    "sorted_letter_count = sorted(letter_count.items(), key=operator.itemgetter(1))\n",
    "sorted_letter_count.reverse()\n",
    "sorted_letter_count"
   ]
  },
  {
   "cell_type": "code",
   "execution_count": 5,
   "metadata": {},
   "outputs": [],
   "source": [
    "# English letter frequency: http://letterfrequency.org/\n",
    "# e t a o i n s r h l d c u m f p g w y b v k x j q z\n",
    "english_letter_frequency = 'etaoinsrhldcumfpgwybvkxjqz'"
   ]
  },
  {
   "cell_type": "code",
   "execution_count": 6,
   "metadata": {},
   "outputs": [
    {
     "data": {
      "text/plain": [
       "{'A': 'm',\n",
       " 'B': 'r',\n",
       " 'C': 'n',\n",
       " 'D': 'x',\n",
       " 'E': 'b',\n",
       " 'F': 'y',\n",
       " 'G': 'd',\n",
       " 'H': 'w',\n",
       " 'I': 'p',\n",
       " 'J': 'a',\n",
       " 'K': 'j',\n",
       " 'L': 'f',\n",
       " 'M': 'o',\n",
       " 'N': 'h',\n",
       " 'O': 'k',\n",
       " 'P': 'i',\n",
       " 'Q': 'v',\n",
       " 'R': 's',\n",
       " 'S': 'q',\n",
       " 'T': 't',\n",
       " 'U': 'g',\n",
       " 'V': 'l',\n",
       " 'W': 'c',\n",
       " 'X': 'e',\n",
       " 'Y': 'u',\n",
       " 'Z': 'z'}"
      ]
     },
     "execution_count": 6,
     "metadata": {},
     "output_type": "execute_result"
    }
   ],
   "source": [
    "decipher = {cipher_letter: real_letter for ((cipher_letter, c), real_letter) in zip(sorted_letter_count, english_letter_frequency)}\n",
    "decipher"
   ]
  },
  {
   "cell_type": "code",
   "execution_count": 7,
   "metadata": {},
   "outputs": [
    {
     "name": "stdout",
     "output_type": "stream",
     "text": [
      "rt aie sofe ingl mofe pnlai prtcels np o fot's ioth, oth ulnae nxel ocortsa aie mothdesarmw gvnt aie vdosael np aie uodd np aie wrtc's vodome; oth aie wrtc sou aie vola np aie ioth aioa ulnae. aiet aie wrtc's mngtaetotme uos miotceh, oth irs aingcias alngydeh irf, sn aioa aie qnrtas np irs dnrts uele dnnseh, oth irs wtees sfnae nte ocortsa otnaiel. aie wrtc mlreh odngh an ylrtc rt aie osalndncels, aie miodheots, oth aie snnaisobels. oth aie wrtc svowe, oth sorh an aie urse fet np yoybdnt, uinsnexel siodd leoh airs ulrartc, oth sinu fe aie rtaelvleaoarnt aielenp, siodd ye mdnaieh urai smoldea, oth ioxe o miort np cndh oynga irs temw, oth siodd ye aie airlh lgdel rt aie wrtchnf. aiet mofe rt odd aie wrtc's urse fet; yga aieb mngdh tna leoh aie ulrartc, tnl fowe wtnut an aie wrtc aie rtaelvleaoarnt aielenp. aiet uos wrtc yedsiokkol cleoadb alngydeh, oth irs mngtaetotme uos miotceh rt irf, oth irs dnlhs uele osantrsieh. tnu aie jgeet, yb leosnt np aie unlhs np aie wrtc oth irs dnlhs, mofe rtan aie yotjgea ingse; oth aie jgeet svowe oth sorh, n wrtc, drxe pnlexel; dea tna aib aingcias alngyde aiee, tnl dea aib mngtaetotme ye miotceh; aiele rs o fot rt aib wrtchnf, rt uinf rs aie svrlra np aie indb cnhs; oth rt aie hobs np aib poaiel drcia oth gthelsaothrtc oth urshnf, drwe aie urshnf np aie cnhs, uos pngth rt irf; uinf aie wrtc teygmiohtekkol aib poaiel, aie wrtc, r sob, aib poaiel, fohe fosael np aie focrmrots, osalndncels, miodheots, oth snnaisobels; pnlosfgmi os ot ezmeddeta svrlra, oth wtnudehce, oth gthelsaothrtc, rtaelvleartc np hleofs, oth sinurtc np iolh setaetmes, oth hrssndxrtc np hngyas, uele pngth rt aie sofe hotred, uinf aie wrtc tofeh yedaesiokkol; tnu dea hotred ye moddeh, oth ie urdd sinu aie rtaelvleaoarnt. aie prlsa mnheunlh rs naieddn.\n",
      "\n"
     ]
    }
   ],
   "source": [
    "real_text = ''\n",
    "for cipher_letter in cipher_text:\n",
    "    real_letter = decipher[cipher_letter] if cipher_letter in decipher else cipher_letter\n",
    "    real_text += real_letter\n",
    "    \n",
    "print(real_text)"
   ]
  }
 ],
 "metadata": {
  "kernelspec": {
   "display_name": "Python 3",
   "language": "python",
   "name": "python3"
  },
  "language_info": {
   "codemirror_mode": {
    "name": "ipython",
    "version": 3
   },
   "file_extension": ".py",
   "mimetype": "text/x-python",
   "name": "python",
   "nbconvert_exporter": "python",
   "pygments_lexer": "ipython3",
   "version": "3.5.2"
  }
 },
 "nbformat": 4,
 "nbformat_minor": 2
}

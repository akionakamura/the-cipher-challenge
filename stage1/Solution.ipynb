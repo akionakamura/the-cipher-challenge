{
 "cells": [
  {
   "cell_type": "markdown",
   "metadata": {},
   "source": [
    "## Stage 1\n",
    "\n",
    "The first challenge consist on a Monoalphabetic Substitution Cipher. It simply replaces a real letter with another cipher letter directly on all its occurrences."
   ]
  },
  {
   "cell_type": "code",
   "execution_count": 1,
   "metadata": {},
   "outputs": [],
   "source": [
    "import operator"
   ]
  },
  {
   "cell_type": "code",
   "execution_count": 2,
   "metadata": {},
   "outputs": [],
   "source": [
    "f = open(\"./cipher.txt\")\n",
    "\n",
    "# It is a one line :)\n",
    "cipher_text = f.readlines()[0]"
   ]
  },
  {
   "cell_type": "markdown",
   "metadata": {},
   "source": [
    "Follows the cipher text:"
   ]
  },
  {
   "cell_type": "code",
   "execution_count": 3,
   "metadata": {},
   "outputs": [
    {
     "name": "stdout",
     "output_type": "stream",
     "text": [
      "BT JPX RMLX PCUV AMLX ICVJP IBTWXVR CI M LMT'R PMTN, MTN YVCJX CDXV MWMBTRJ JPX AMTNGXRJBAH UQCT JPX QGMRJXV CI JPX YMGG CI JPX HBTW'R QMGMAX; MTN JPX HBTW RMY JPX QMVJ CI JPX PMTN JPMJ YVCJX. JPXT JPX HBTW'R ACUTJXTMTAX YMR APMTWXN, MTN PBR JPCUWPJR JVCUFGXN PBL, RC JPMJ JPX SCBTJR CI PBR GCBTR YXVX GCCRXN, MTN PBR HTXXR RLCJX CTX MWMBTRJ MTCJPXV. JPX HBTW AVBXN MGCUN JC FVBTW BT JPX MRJVCGCWXVR, JPX APMGNXMTR, MTN JPX RCCJPRMEXVR. MTN JPX HBTW RQMHX, MTN RMBN JC JPX YBRX LXT CI FMFEGCT, YPCRCXDXV RPMGG VXMN JPBR YVBJBTW, MTN RPCY LX JPX BTJXVQVXJMJBCT JPXVXCI, RPMGG FX AGCJPXN YBJP RAMVGXJ, MTN PMDX M APMBT CI WCGN MFCUJ PBR TXAH, MTN RPMGG FX JPX JPBVN VUGXV BT JPX HBTWNCL. JPXT AMLX BT MGG JPX HBTW'R YBRX LXT; FUJ JPXE ACUGN TCJ VXMN JPX YVBJBTW, TCV LMHX HTCYT JC JPX HBTW JPX BTJXVQVXJMJBCT JPXVXCI. JPXT YMR HBTW FXGRPMOOMV WVXMJGE JVCUFGXN, MTN PBR ACUTJXTMTAX YMR APMTWXN BT PBL, MTN PBR GCVNR YXVX MRJCTBRPXN. TCY JPX KUXXT, FE VXMRCT CI JPX YCVNR CI JPX HBTW MTN PBR GCVNR, AMLX BTJC JPX FMTKUXJ PCURX; MTN JPX KUXXT RQMHX MTN RMBN, C HBTW, GBDX ICVXDXV; GXJ TCJ JPE JPCUWPJR JVCUFGX JPXX, TCV GXJ JPE ACUTJXTMTAX FX APMTWXN; JPXVX BR M LMT BT JPE HBTWNCL, BT YPCL BR JPX RQBVBJ CI JPX PCGE WCNR; MTN BT JPX NMER CI JPE IMJPXV GBWPJ MTN UTNXVRJMTNBTW MTN YBRNCL, GBHX JPX YBRNCL CI JPX WCNR, YMR ICUTN BT PBL; YPCL JPX HBTW TXFUAPMNTXOOMV JPE IMJPXV, JPX HBTW, B RME, JPE IMJPXV, LMNX LMRJXV CI JPX LMWBABMTR, MRJVCGCWXVR, APMGNXMTR, MTN RCCJPRMEXVR; ICVMRLUAP MR MT XZAXGGXTJ RQBVBJ, MTN HTCYGXNWX, MTN UTNXVRJMTNBTW, BTJXVQVXJBTW CI NVXMLR, MTN RPCYBTW CI PMVN RXTJXTAXR, MTN NBRRCGDBTW CI NCUFJR, YXVX ICUTN BT JPX RMLX NMTBXG, YPCL JPX HBTW TMLXN FXGJXRPMOOMV; TCY GXJ NMTBXG FX AMGGXN, MTN PX YBGG RPCY JPX BTJXVQVXJMJBCT. JPX IBVRJ ACNXYCVN BR CJPXGGC.\n"
     ]
    }
   ],
   "source": [
    "print(cipher_text)"
   ]
  },
  {
   "cell_type": "markdown",
   "metadata": {},
   "source": [
    "### Frequency Analysis\n",
    "\n",
    "First attempt will be to run a frequency analysis, where we'll count the occurrence of each letter in the cypher text. Their distribution should follow a similar distribution to the English language."
   ]
  },
  {
   "cell_type": "code",
   "execution_count": 4,
   "metadata": {},
   "outputs": [
    {
     "data": {
      "text/plain": [
       "'XTJMPCRBNVGWYALIUHFEQODKSZ'"
      ]
     },
     "execution_count": 4,
     "metadata": {},
     "output_type": "execute_result"
    }
   ],
   "source": [
    "letter_count = {}\n",
    "not_letters = {' ', ',', ';', '.', '\\n', \"'\"}\n",
    "for letter in cipher_text:\n",
    "    if letter not in not_letters:\n",
    "        if letter not in letter_count:\n",
    "            letter_count[letter] = 0\n",
    "\n",
    "        letter_count[letter] += 1\n",
    "    \n",
    "sorted_letter_count = sorted(letter_count.items(), key=operator.itemgetter(1))\n",
    "sorted_letter_count.reverse()\n",
    "cipher_alphabet = ''.join([x[0] for x in sorted_letter_count])\n",
    "cipher_alphabet"
   ]
  },
  {
   "cell_type": "markdown",
   "metadata": {},
   "source": [
    "The English language has the following order of most frequently used letters:\n",
    "\n",
    "`etaoinsrhldcumfpgwybvkxjqz`\n",
    "\n",
    "Source: http://letterfrequency.org/"
   ]
  },
  {
   "cell_type": "code",
   "execution_count": 5,
   "metadata": {},
   "outputs": [],
   "source": [
    "# Cipher alphabet:         'XTJMPCRBNVGWYALIUHFEQODKSZ'\n",
    "english_letter_frequency = 'eotahinsrdlcumfpgwbyvkxjqz'"
   ]
  },
  {
   "cell_type": "code",
   "execution_count": 6,
   "metadata": {},
   "outputs": [],
   "source": [
    "def decipher(text, key):\n",
    "    mapping = {cipher_letter: real_letter for (cipher_letter, real_letter) in zip(cipher_alphabet, key)}\n",
    "    real_text = ''\n",
    "    for cipher_letter in text:\n",
    "        real_letter = mapping[cipher_letter] if cipher_letter in mapping else cipher_letter\n",
    "        real_text += real_letter\n",
    "    return real_text"
   ]
  },
  {
   "cell_type": "code",
   "execution_count": 7,
   "metadata": {},
   "outputs": [
    {
     "data": {
      "text/plain": [
       "\"so the nafe higd mafe pidth psocedn ip a fao'n haor, aor udite ixed acasont the maorlentsmw gvio the vlanted ip the uall ip the wsoc'n valame; aor the wsoc nau the vadt ip the haor that udite. theo the wsoc'n migoteoaome uan mhaocer, aor hsn thigchtn tdigbler hsf, ni that the qisotn ip hsn lison uede liiner, aor hsn woeen nfite ioe acasont aoithed. the wsoc mdser aligr ti bdsoc so the antdilicedn, the mhalreaon, aor the niithnayedn. aor the wsoc nvawe, aor nasr ti the usne feo ip babylio, uhiniexed nhall dear thsn udstsoc, aor nhiu fe the sotedvdetatsio thedeip, nhall be mlither usth nmadlet, aor haxe a mhaso ip cilr abigt hsn oemw, aor nhall be the thsdr dgled so the wsocrif. theo mafe so all the wsoc'n usne feo; bgt they miglr oit dear the udstsoc, oid fawe woiuo ti the wsoc the sotedvdetatsio thedeip. theo uan wsoc belnhakkad cdeatly tdigbler, aor hsn migoteoaome uan mhaocer so hsf, aor hsn lidrn uede antiosnher. oiu the jgeeo, by deanio ip the uidrn ip the wsoc aor hsn lidrn, mafe soti the baojget higne; aor the jgeeo nvawe aor nasr, i wsoc, lsxe pidexed; let oit thy thigchtn tdigble thee, oid let thy migoteoaome be mhaocer; thede sn a fao so thy wsocrif, so uhif sn the nvsdst ip the hily cirn; aor so the rayn ip thy pathed lscht aor goredntaorsoc aor usnrif, lswe the usnrif ip the cirn, uan pigor so hsf; uhif the wsoc oebgmharoekkad thy pathed, the wsoc, s nay, thy pathed, fare fanted ip the facsmsaon, antdilicedn, mhalreaon, aor niithnayedn; pidanfgmh an ao ezmelleot nvsdst, aor woiulerce, aor goredntaorsoc, sotedvdetsoc ip rdeafn, aor nhiusoc ip hadr neoteomen, aor rsnnilxsoc ip rigbtn, uede pigor so the nafe raosel, uhif the wsoc oafer beltenhakkad; oiu let raosel be maller, aor he usll nhiu the sotedvdetatsio. the psdnt mireuidr sn ithelli.\""
      ]
     },
     "execution_count": 7,
     "metadata": {},
     "output_type": "execute_result"
    }
   ],
   "source": [
    "decipher(cipher_text, english_letter_frequency)"
   ]
  },
  {
   "cell_type": "markdown",
   "metadata": {},
   "source": [
    "It is clearly very wrong, so we take a step back maintaining only the ones we are sure about. For now, by looking at the shorter words, the letters `t`, `h`, `e`, `l`."
   ]
  },
  {
   "cell_type": "code",
   "execution_count": 8,
   "metadata": {},
   "outputs": [
    {
     "data": {
      "text/plain": [
       "\"__ the s__e h___ ___e ___th ____e_s __ _ ___'s h___, ___ ___te __e_ _____st the ____lest___ ____ the _l_ste_ __ the __ll __ the ____'s __l__e; ___ the ____ s__ the ___t __ the h___ th_t ___te. the_ the ____'s ____te____e __s _h___e_, ___ h_s th___hts t____le_ h__, s_ th_t the ____ts __ h_s l___s _e_e l__se_, ___ h_s __ees s__te __e _____st ___the_. the ____ ___e_ _l___ t_ _____ __ the _st__l__e_s, the _h_l_e__s, ___ the s__ths__e_s. ___ the ____ s___e, ___ s___ t_ the __se _e_ __ ____l__, _h_s_e_e_ sh_ll _e__ th_s ___t___, ___ sh__ _e the __te___et_t___ the_e__, sh_ll _e _l_the_ __th s___let, ___ h__e _ _h___ __ __l_ ____t h_s _e__, ___ sh_ll _e the th___ __le_ __ the _______. the_ ___e __ _ll the ____'s __se _e_; __t the_ ___l_ __t _e__ the ___t___, ___ ___e _____ t_ the ____ the __te___et_t___ the_e__. the_ __s ____ _elsh_____ __e_tl_ t____le_, ___ h_s ____te____e __s _h___e_ __ h__, ___ h_s l___s _e_e _st___she_. ___ the __ee_, __ _e_s__ __ the ____s __ the ____ ___ h_s l___s, ___e __t_ the _____et h__se; ___ the __ee_ s___e ___ s___, _ ____, l__e ___e_e_; let __t th_ th___hts t____le thee, ___ let th_ ____te____e _e _h___e_; the_e _s _ ___ __ th_ _______, __ _h__ _s the s____t __ the h_l_ ___s; ___ __ the ___s __ th_ __the_ l__ht ___ ___e_st______ ___ __s___, l__e the __s___ __ the ___s, __s _____ __ h__; _h__ the ____ _e___h___e____ th_ __the_, the ____, _ s__, th_ __the_, ___e __ste_ __ the ________s, _st__l__e_s, _h_l_e__s, ___ s__ths__e_s; ____s___h _s __ e__elle_t s____t, ___ ____le__e, ___ ___e_st______, __te___et___ __ __e__s, ___ sh_____ __ h___ se_te__es, ___ __ss_l____ __ ____ts, _e_e _____ __ the s__e ____el, _h__ the ____ ___e_ _eltesh_____; ___ let ____el _e __lle_, ___ he __ll sh__ the __te___et_t___. the ___st ___e____ _s _thell_.\""
      ]
     },
     "execution_count": 8,
     "metadata": {},
     "output_type": "execute_result"
    }
   ],
   "source": [
    "# Cipher alphabet:         'XTJMPCRBNVGWYALIUHFEQODKSZ'\n",
    "english_letter_frequency = 'e_t_h_s___l_______________'\n",
    "decipher(cipher_text, english_letter_frequency)"
   ]
  },
  {
   "cell_type": "markdown",
   "metadata": {},
   "source": [
    "Now we fill letters in words we assume like `that`, `thy`, `then`."
   ]
  },
  {
   "cell_type": "code",
   "execution_count": 9,
   "metadata": {},
   "outputs": [
    {
     "data": {
      "text/plain": [
       "\"_n the sa_e h___ _a_e ___th __n_e_s __ a _an's han_, an_ ___te __e_ a_a_nst the _an_lest___ ___n the _laste_ __ the _all __ the __n_'s _ala_e; an_ the __n_ sa_ the _a_t __ the han_ that ___te. then the __n_'s ___ntenan_e _as _han_e_, an_ h_s th___hts t____le_ h__, s_ that the ___nts __ h_s l__ns _e_e l__se_, an_ h_s _nees s__te _ne a_a_nst an_the_. the __n_ ___e_ al___ t_ ___n_ _n the ast__l__e_s, the _hal_eans, an_ the s__thsaye_s. an_ the __n_ s_a_e, an_ sa__ t_ the __se _en __ _a_yl_n, _h_s_e_e_ shall _ea_ th_s ___t_n_, an_ sh__ _e the _nte___etat__n the_e__, shall _e _l_the_ __th s_a_let, an_ ha_e a _ha_n __ __l_ a___t h_s ne__, an_ shall _e the th___ __le_ _n the __n____. then _a_e _n all the __n_'s __se _en; __t they ___l_ n_t _ea_ the ___t_n_, n__ _a_e _n__n t_ the __n_ the _nte___etat__n the_e__. then _as __n_ _elsha__a_ __eatly t____le_, an_ h_s ___ntenan_e _as _han_e_ _n h__, an_ h_s l___s _e_e ast_n_she_. n__ the __een, _y _eas_n __ the ____s __ the __n_ an_ h_s l___s, _a_e _nt_ the _an__et h__se; an_ the __een s_a_e an_ sa__, _ __n_, l__e ___e_e_; let n_t thy th___hts t____le thee, n__ let thy ___ntenan_e _e _han_e_; the_e _s a _an _n thy __n____, _n _h__ _s the s____t __ the h_ly ___s; an_ _n the _ays __ thy _athe_ l__ht an_ _n_e_stan__n_ an_ __s___, l__e the __s___ __ the ___s, _as ___n_ _n h__; _h__ the __n_ ne___ha_ne__a_ thy _athe_, the __n_, _ say, thy _athe_, _a_e _aste_ __ the _a____ans, ast__l__e_s, _hal_eans, an_ s__thsaye_s; ___as___h as an e__ellent s____t, an_ _n__le__e, an_ _n_e_stan__n_, _nte___et_n_ __ __ea_s, an_ sh___n_ __ ha__ senten_es, an_ __ss_l__n_ __ ____ts, _e_e ___n_ _n the sa_e _an_el, _h__ the __n_ na_e_ _eltesha__a_; n__ let _an_el _e _alle_, an_ he __ll sh__ the _nte___etat__n. the ___st ___e____ _s _thell_.\""
      ]
     },
     "execution_count": 9,
     "metadata": {},
     "output_type": "execute_result"
    }
   ],
   "source": [
    "# Cipher alphabet:         'XTJMPCRBNVGWYALIUHFEQODKSZ'\n",
    "english_letter_frequency = 'entah_s___l________y______'\n",
    "decipher(cipher_text, english_letter_frequency)"
   ]
  },
  {
   "cell_type": "markdown",
   "metadata": {},
   "source": [
    "Now we are capable of inferring more words, like `hand`, `against`, `astonished`, `by`, `excellent`, `sentences`."
   ]
  },
  {
   "cell_type": "code",
   "execution_count": 10,
   "metadata": {},
   "outputs": [
    {
     "data": {
      "text/plain": [
       "\"in the sa_e ho__ ca_e _o_th _inge_s o_ a _an's hand, and __ote o_e_ against the candlestic_ __on the _laste_ o_ the _all o_ the _ing's _alace; and the _ing sa_ the _a_t o_ the hand that __ote. then the _ing's co_ntenance _as changed, and his tho_ghts t_o_bled hi_, so that the _oints o_ his loins _e_e loosed, and his _nees s_ote one against anothe_. the _ing c_ied alo_d to b_ing in the ast_ologe_s, the chaldeans, and the soothsaye_s. and the _ing s_a_e, and said to the _ise _en o_ babylon, _hosoe_e_ shall _ead this __iting, and sho_ _e the inte___etation the_eo_, shall be clothed _ith sca_let, and ha_e a chain o_ gold abo_t his nec_, and shall be the thi_d __le_ in the _ingdo_. then ca_e in all the _ing's _ise _en; b_t they co_ld not _ead the __iting, no_ _a_e _no_n to the _ing the inte___etation the_eo_. then _as _ing belsha__a_ g_eatly t_o_bled, and his co_ntenance _as changed in hi_, and his lo_ds _e_e astonished. no_ the __een, by _eason o_ the _o_ds o_ the _ing and his lo_ds, ca_e into the ban__et ho_se; and the __een s_a_e and said, o _ing, li_e _o_e_e_; let not thy tho_ghts t_o_ble thee, no_ let thy co_ntenance be changed; the_e is a _an in thy _ingdo_, in _ho_ is the s_i_it o_ the holy gods; and in the days o_ thy _athe_ light and _nde_standing and _isdo_, li_e the _isdo_ o_ the gods, _as _o_nd in hi_; _ho_ the _ing neb_chadne__a_ thy _athe_, the _ing, i say, thy _athe_, _ade _aste_ o_ the _agicians, ast_ologe_s, chaldeans, and soothsaye_s; _o_as__ch as an excellent s_i_it, and _no_ledge, and _nde_standing, inte___eting o_ d_ea_s, and sho_ing o_ ha_d sentences, and dissol_ing o_ do_bts, _e_e _o_nd in the sa_e daniel, _ho_ the _ing na_ed beltesha__a_; no_ let daniel be called, and he _ill sho_ the inte___etation. the _i_st code_o_d is othello.\""
      ]
     },
     "execution_count": 10,
     "metadata": {},
     "output_type": "execute_result"
    }
   ],
   "source": [
    "# Cipher alphabet:         'XTJMPCRBNVGWYALIUHFEQODKSZ'\n",
    "english_letter_frequency = 'entahosid_lg_c____by_____x'\n",
    "decipher(cipher_text, english_letter_frequency)"
   ]
  },
  {
   "cell_type": "markdown",
   "metadata": {},
   "source": [
    "On another iteration, we can find the words `of`, `candlestick`,`king`, `palace`, `countenance`, `was`, `thoughts`."
   ]
  },
  {
   "cell_type": "code",
   "execution_count": 11,
   "metadata": {},
   "outputs": [
    {
     "data": {
      "text/plain": [
       "\"in the sa_e hour ca_e forth fingers of a _an's hand, and wrote o_er against the candlestick upon the plaster of the wall of the king's palace; and the king saw the part of the hand that wrote. then the king's countenance was changed, and his thoughts troubled hi_, so that the _oints of his loins were loosed, and his knees s_ote one against another. the king cried aloud to bring in the astrologers, the chaldeans, and the soothsayers. and the king spake, and said to the wise _en of babylon, whosoe_er shall read this writing, and show _e the interpretation thereof, shall be clothed with scarlet, and ha_e a chain of gold about his neck, and shall be the third ruler in the kingdo_. then ca_e in all the king's wise _en; but they could not read the writing, nor _ake known to the king the interpretation thereof. then was king belsha__ar greatly troubled, and his countenance was changed in hi_, and his lords were astonished. now the _ueen, by reason of the words of the king and his lords, ca_e into the ban_uet house; and the _ueen spake and said, o king, li_e fore_er; let not thy thoughts trouble thee, nor let thy countenance be changed; there is a _an in thy kingdo_, in who_ is the spirit of the holy gods; and in the days of thy father light and understanding and wisdo_, like the wisdo_ of the gods, was found in hi_; who_ the king nebuchadne__ar thy father, the king, i say, thy father, _ade _aster of the _agicians, astrologers, chaldeans, and soothsayers; foras_uch as an excellent spirit, and knowledge, and understanding, interpreting of drea_s, and showing of hard sentences, and dissol_ing of doubts, were found in the sa_e daniel, who_ the king na_ed beltesha__ar; now let daniel be called, and he will show the interpretation. the first codeword is othello.\""
      ]
     },
     "execution_count": 11,
     "metadata": {},
     "output_type": "execute_result"
    }
   ],
   "source": [
    "# Cipher alphabet:         'XTJMPCRBNVGWYALIUHFEQODKSZ'\n",
    "english_letter_frequency = 'entahosidrlgwc_fukbyp____x'\n",
    "decipher(cipher_text, english_letter_frequency)"
   ]
  },
  {
   "cell_type": "markdown",
   "metadata": {},
   "source": [
    "Finally, on the last iteration we can find the original text."
   ]
  },
  {
   "cell_type": "code",
   "execution_count": 12,
   "metadata": {},
   "outputs": [
    {
     "data": {
      "text/plain": [
       "\"in the same hour came forth fingers of a man's hand, and wrote over against the candlestick upon the plaster of the wall of the king's palace; and the king saw the part of the hand that wrote. then the king's countenance was changed, and his thoughts troubled him, so that the joints of his loins were loosed, and his knees smote one against another. the king cried aloud to bring in the astrologers, the chaldeans, and the soothsayers. and the king spake, and said to the wise men of babylon, whosoever shall read this writing, and show me the interpretation thereof, shall be clothed with scarlet, and have a chain of gold about his neck, and shall be the third ruler in the kingdom. then came in all the king's wise men; but they could not read the writing, nor make known to the king the interpretation thereof. then was king belshazzar greatly troubled, and his countenance was changed in him, and his lords were astonished. now the queen, by reason of the words of the king and his lords, came into the banquet house; and the queen spake and said, o king, live forever; let not thy thoughts trouble thee, nor let thy countenance be changed; there is a man in thy kingdom, in whom is the spirit of the holy gods; and in the days of thy father light and understanding and wisdom, like the wisdom of the gods, was found in him; whom the king nebuchadnezzar thy father, the king, i say, thy father, made master of the magicians, astrologers, chaldeans, and soothsayers; forasmuch as an excellent spirit, and knowledge, and understanding, interpreting of dreams, and showing of hard sentences, and dissolving of doubts, were found in the same daniel, whom the king named belteshazzar; now let daniel be called, and he will show the interpretation. the first codeword is othello.\""
      ]
     },
     "execution_count": 12,
     "metadata": {},
     "output_type": "execute_result"
    }
   ],
   "source": [
    "english_letter_frequency = 'entahosidrlgwcmfukbypzvqjx'\n",
    "decipher(cipher_text, english_letter_frequency)"
   ]
  }
 ],
 "metadata": {
  "kernelspec": {
   "display_name": "Python 3",
   "language": "python",
   "name": "python3"
  },
  "language_info": {
   "codemirror_mode": {
    "name": "ipython",
    "version": 3
   },
   "file_extension": ".py",
   "mimetype": "text/x-python",
   "name": "python",
   "nbconvert_exporter": "python",
   "pygments_lexer": "ipython3",
   "version": "3.5.2"
  }
 },
 "nbformat": 4,
 "nbformat_minor": 2
}
